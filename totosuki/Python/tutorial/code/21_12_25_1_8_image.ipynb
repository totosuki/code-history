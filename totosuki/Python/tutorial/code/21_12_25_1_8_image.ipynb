{
 "cells": [
  {
   "cell_type": "code",
   "execution_count": null,
   "id": "7369f09f",
   "metadata": {},
   "outputs": [],
   "source": [
    "import numpy as np\n",
    "from PIL import Image\n",
    "import matplotlib.pyplot as plt\n",
    "%matplotlib inline"
   ]
  },
  {
   "cell_type": "code",
   "execution_count": null,
   "id": "fc206890",
   "metadata": {},
   "outputs": [],
   "source": [
    "image = Image.open(\"target_image.jpg\")\n",
    "plt.imshow(image)"
   ]
  },
  {
   "cell_type": "code",
   "execution_count": null,
   "id": "c2a29608",
   "metadata": {},
   "outputs": [],
   "source": [
    "gray_image = image.convert(\"L\")\n",
    "plt.imshow(gray_image,cmap = \"gray\")"
   ]
  },
  {
   "cell_type": "code",
   "execution_count": null,
   "id": "c0a2fc36",
   "metadata": {},
   "outputs": [],
   "source": [
    "gray_image.save(\"target_image_gray.jpg\")\n",
    "saveImage = Image.open(\"target_image_gray.jpg\")\n",
    "plt.imshow(saveImage,cmap=\"gray\")"
   ]
  },
  {
   "cell_type": "code",
   "execution_count": null,
   "id": "3aa0f800",
   "metadata": {},
   "outputs": [],
   "source": [
    "image_resized = image.resize((2000, 100))\n",
    "plt.imshow(image_resized)"
   ]
  },
  {
   "cell_type": "code",
   "execution_count": null,
   "id": "e1680390",
   "metadata": {},
   "outputs": [],
   "source": [
    "image_rotated =image.rotate(45,expand = True)\n",
    "plt.imshow(image_rotated)"
   ]
  },
  {
   "cell_type": "code",
   "execution_count": null,
   "id": "571875fd",
   "metadata": {},
   "outputs": [],
   "source": [
    "image_rotated = image.rotate(45,translate = (50,100))\n",
    "plt.imshow(image_rotated)"
   ]
  },
  {
   "cell_type": "code",
   "execution_count": null,
   "id": "7bbd5ce9",
   "metadata": {},
   "outputs": [],
   "source": [
    "color_image = np.array(image)\n",
    "print(color_image.shape)"
   ]
  },
  {
   "cell_type": "code",
   "execution_count": null,
   "id": "b8314ad4",
   "metadata": {},
   "outputs": [],
   "source": [
    "print(color_image[0, 0, :])"
   ]
  },
  {
   "cell_type": "code",
   "execution_count": null,
   "id": "67b685e7",
   "metadata": {},
   "outputs": [],
   "source": [
    "print(color_image[:,:,0])"
   ]
  },
  {
   "cell_type": "code",
   "execution_count": null,
   "id": "da849bda",
   "metadata": {},
   "outputs": [],
   "source": [
    "gray_image_np = np.array(gray_image)\n",
    "print(gray_image_np.shape)\n",
    "print(gray_image_np[0,0])"
   ]
  },
  {
   "cell_type": "code",
   "execution_count": null,
   "id": "1be90311",
   "metadata": {},
   "outputs": [],
   "source": [
    "hist_c, bins_c = np.histogram(color_image.flatten(), bins=256)\n",
    "plt.plot(hist_c)"
   ]
  },
  {
   "cell_type": "code",
   "execution_count": null,
   "id": "7dd788b9",
   "metadata": {},
   "outputs": [],
   "source": [
    "hist_r, bins_r = np.histogram(color_image[:,:,0].flatten(), bins=256)\n",
    "plt.plot(hist_r)\n",
    "\n",
    "hist_g, bins_g = np.histogram(color_image[:,:,1].flatten(), bins=256)\n",
    "plt.plot(hist_g)\n",
    "\n",
    "hist_b, bins_b = np.histogram(color_image[:,:,2].flatten(), bins=256)\n",
    "plt.plot(hist_b)"
   ]
  },
  {
   "cell_type": "code",
   "execution_count": null,
   "id": "ae7114ed",
   "metadata": {},
   "outputs": [],
   "source": [
    "half_color_image = color_image // 2\n",
    "plt.imshow(half_color_image)"
   ]
  },
  {
   "cell_type": "code",
   "execution_count": null,
   "id": "a3dcb707",
   "metadata": {},
   "outputs": [],
   "source": [
    "mydog = Image.open(\"IMG_3915_Test.jpg\")\n",
    "mydog_gray = mydog.convert(\"L\")\n",
    "plt.imshow(mydog_gray,cmap = \"gray\")"
   ]
  },
  {
   "cell_type": "code",
   "execution_count": null,
   "id": "b122c9c5",
   "metadata": {},
   "outputs": [],
   "source": [
    "mydog_resize = mydog.resize((2000, 1500))\n",
    "plt.imshow(mydog_resize)"
   ]
  },
  {
   "cell_type": "code",
   "execution_count": null,
   "id": "e5c9a9cd",
   "metadata": {},
   "outputs": [],
   "source": [
    "mydog_color = np.array(mydog_resize)\n",
    "print(mydog_color.shape)"
   ]
  },
  {
   "cell_type": "code",
   "execution_count": null,
   "id": "20729491",
   "metadata": {},
   "outputs": [],
   "source": [
    "hist_c, bins_c = np.histogram(mydog_color.flatten(), bins=256)\n",
    "plt.plot(hist_c)"
   ]
  },
  {
   "cell_type": "code",
   "execution_count": null,
   "id": "0170cc2e",
   "metadata": {},
   "outputs": [],
   "source": [
    "hist_r, bins_r = np.histogram(mydog_color[:,:,0].flatten(), bins=256)\n",
    "plt.plot(hist_r)\n",
    "\n",
    "hist_g, bins_g = np.histogram(mydog_color[:,:,1].flatten(), bins=256)\n",
    "plt.plot(hist_g)\n",
    "\n",
    "hist_b, bins_b = np.histogram(mydog_color[:,:,2].flatten(), bins=256)\n",
    "plt.plot(hist_b)"
   ]
  },
  {
   "cell_type": "code",
   "execution_count": null,
   "id": "d2138b70",
   "metadata": {},
   "outputs": [],
   "source": [
    "mydog_gray_data = np.array(mydog_gray)\n",
    "print(mydog_gray_data.shape)"
   ]
  },
  {
   "cell_type": "code",
   "execution_count": null,
   "id": "44f3e3e2",
   "metadata": {},
   "outputs": [],
   "source": [
    "mydog_gray_newdata = mydog_gray_data * 2\n",
    "plt.imshow(mydog_gray_newdata,cmap = \"gray\")\n",
    "print(mydog_gray_newdata[0,0])"
   ]
  },
  {
   "cell_type": "code",
   "execution_count": null,
   "id": "d5508f0f",
   "metadata": {},
   "outputs": [],
   "source": [
    "plt.imshow(mydog_gray,cmap = \"gray\")\n",
    "print(mydog_gray_data[0,0])"
   ]
  },
  {
   "cell_type": "code",
   "execution_count": null,
   "id": "f84b896e",
   "metadata": {},
   "outputs": [],
   "source": []
  }
 ],
 "metadata": {
  "kernelspec": {
   "display_name": "Python 3 (ipykernel)",
   "language": "python",
   "name": "python3"
  },
  "language_info": {
   "codemirror_mode": {
    "name": "ipython",
    "version": 3
   },
   "file_extension": ".py",
   "mimetype": "text/x-python",
   "name": "python",
   "nbconvert_exporter": "python",
   "pygments_lexer": "ipython3",
   "version": "3.10.0"
  }
 },
 "nbformat": 4,
 "nbformat_minor": 5
}
