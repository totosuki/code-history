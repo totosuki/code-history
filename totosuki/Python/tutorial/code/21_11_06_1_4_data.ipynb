{
 "cells": [
  {
   "cell_type": "code",
   "execution_count": 7,
   "id": "c0e196ac",
   "metadata": {},
   "outputs": [],
   "source": [
    "numbers = [i for i in range(10)]\n",
    "practiceFile = open(\"numbers.txt\",\"w\")\n",
    "for number in numbers:\n",
    "    practiceFile.write(f\"{number},{number ** 2}\\n\")\n",
    "practiceFile.close()\n"
   ]
  },
  {
   "cell_type": "code",
   "execution_count": 9,
   "id": "75d10441",
   "metadata": {},
   "outputs": [
    {
     "name": "stdout",
     "output_type": "stream",
     "text": [
      "0,0\n",
      "1,1\n",
      "2,4\n",
      "3,9\n",
      "4,16\n",
      "5,25\n",
      "6,36\n",
      "7,49\n",
      "8,64\n",
      "9,81\n"
     ]
    }
   ],
   "source": [
    "with open(\"numbers.txt\") as practiceFile:\n",
    "    lines = practiceFile.read()\n",
    "for line in lines:\n",
    "    print(line,end = \"\")"
   ]
  },
  {
   "cell_type": "code",
   "execution_count": 12,
   "id": "6f8555cb",
   "metadata": {},
   "outputs": [
    {
     "name": "stdout",
     "output_type": "stream",
     "text": [
      "practiceFile.readlines() = ['0,0\\n', '1,1\\n', '2,4\\n', '3,9\\n', '4,16\\n', '5,25\\n', '6,36\\n', '7,49\\n', '8,64\\n', '9,81\\n']\n",
      "0,0\n",
      "1,1\n",
      "2,4\n",
      "3,9\n",
      "4,16\n",
      "5,25\n",
      "6,36\n",
      "7,49\n",
      "8,64\n",
      "9,81\n"
     ]
    }
   ],
   "source": [
    "with open(\"numbers.txt\") as practiceFile:\n",
    "    lines = practiceFile.readlines()\n",
    "print(f\"practiceFile.readlines() =\",lines)\n",
    "for line in lines:\n",
    "    print(line,end=\"\")"
   ]
  },
  {
   "cell_type": "code",
   "execution_count": 24,
   "id": "1a38a4fb",
   "metadata": {},
   "outputs": [
    {
     "name": "stdout",
     "output_type": "stream",
     "text": [
      "0 + 0 = 0\n",
      "1 + 1 = 2\n",
      "2 + 4 = 6\n",
      "3 + 9 = 12\n",
      "4 + 16 = 20\n",
      "5 + 25 = 30\n",
      "6 + 36 = 42\n",
      "7 + 49 = 56\n",
      "8 + 64 = 72\n",
      "9 + 81 = 90\n",
      "10 + 100 = 110\n",
      "11 + 121 = 132\n",
      "12 + 144 = 156\n",
      "13 + 169 = 182\n",
      "14 + 196 = 210\n",
      "15 + 225 = 240\n",
      "16 + 256 = 272\n",
      "17 + 289 = 306\n",
      "18 + 324 = 342\n",
      "19 + 361 = 380\n"
     ]
    }
   ],
   "source": [
    "with open(\"numbers.txt\") as practiceFile:\n",
    "    for line in practiceFile:\n",
    "        line = line.rstrip()\n",
    "        splited = line.split(\",\")\n",
    "        number = [int(i) for i in splited]\n",
    "        print(f\"{number[0]} + {number[1]} = {number[0] + number[1]}\")\n"
   ]
  },
  {
   "cell_type": "code",
   "execution_count": 22,
   "id": "51c2234b",
   "metadata": {},
   "outputs": [],
   "source": [
    "numbers = [i for i in range(10,20)]\n",
    "with open(\"numbers.txt\",\"a\") as practiceFile:\n",
    "    for number in numbers:\n",
    "        practiceFile.write(f\"{number},{number ** 2}\\n\")"
   ]
  },
  {
   "cell_type": "code",
   "execution_count": 27,
   "id": "7462d239",
   "metadata": {},
   "outputs": [
    {
     "name": "stdout",
     "output_type": "stream",
     "text": [
      "こんにちは\n"
     ]
    }
   ],
   "source": [
    "with open(\"sentence_jp.txt\",\"w\",encoding = \"shift-jis\") as practiceFile2:\n",
    "    practiceFile2.write(\"こんにちは\")\n",
    "\n",
    "with open(\"sentence_jp.txt\",encoding = \"shift-jis\") as practiceFile2:\n",
    "    print(practiceFile2.readline())"
   ]
  },
  {
   "cell_type": "code",
   "execution_count": 29,
   "id": "98b4d29f",
   "metadata": {},
   "outputs": [
    {
     "name": "stdout",
     "output_type": "stream",
     "text": [
      "<_io.TextIOWrapper name='./textdata/aisatu.txt' mode='r' encoding='UTF-8'>\n"
     ]
    }
   ],
   "source": [
    "with open(\"./textdata/aisatu.txt\",\"w\") as practiceFile3:\n",
    "    practiceFile3.write(\"こんばんは\")\n",
    "with open(\"./textdata/aisatu.txt\",\"r\") as readFile1:\n",
    "    print(readFile1)\n"
   ]
  },
  {
   "cell_type": "code",
   "execution_count": 35,
   "id": "386a1669",
   "metadata": {},
   "outputs": [
    {
     "name": "stdout",
     "output_type": "stream",
     "text": [
      "['./sentence_jp.txt', './Music', './Python_2.ipynb', './Untitled1.ipynb', './numbers.txt', './numbers', './python_4.ipynb', './Untitled.ipynb', './python_3.ipynb', './Creative Cloud Files', './Pictures', './python_1.ipynb', './Untitled2.ipynb', './Desktop', './Library', './textdata', './tekitounanamae', './miniforge3', './untitled.txt', './Public', './Movies', './Applications', './opt', './Documents', './Downloads']\n"
     ]
    }
   ],
   "source": [
    "import glob\n",
    "print(glob.glob(\"./*\"))"
   ]
  },
  {
   "cell_type": "code",
   "execution_count": 42,
   "id": "e742be74",
   "metadata": {},
   "outputs": [
    {
     "name": "stdout",
     "output_type": "stream",
     "text": [
      "{\n",
      "  \"東京\": {\n",
      "    \"weather\": \"晴れ\",\n",
      "    \"temperature\": [\n",
      "      22,\n",
      "      26\n",
      "    ]\n",
      "  },\n",
      "  \"大坂\": {\n",
      "    \"weather\": \"曇り\",\n",
      "    \"temperature\": [\n",
      "      21,\n",
      "      26\n",
      "    ]\n",
      "  },\n",
      "  \"名古屋\": {\n",
      "    \"weather\": \"雨\",\n",
      "    \"temperature\": [\n",
      "      20,\n",
      "      22\n",
      "    ]\n",
      "  }\n",
      "}\n",
      "\n",
      "{'東京': {'weather': '晴れ', 'temperature': [22, 26]}, '大坂': {'weather': '曇り', 'temperature': [21, 26]}, '名古屋': {'weather': '雨', 'temperature': [20, 22]}}\n"
     ]
    }
   ],
   "source": [
    "import json\n",
    "weather_dict = {\n",
    "    \"東京\":{\"weather\":\"晴れ\",\"temperature\":[22,26]},\n",
    "    \"大坂\":{\"weather\":\"曇り\",\"temperature\":[21,26]},\n",
    "    \"名古屋\":{\"weather\":\"雨\",\"temperature\":[20,22]}\n",
    "}\n",
    "\n",
    "f = open(\"weather.json\",\"w\")\n",
    "json.dump(weather_dict,f,indent = 4,ensure_ascii = False)\n",
    "f.close()\n",
    "\n",
    "with open(\"weather.json\",\"r\") as fileRead:\n",
    "    jsonData = json.load(fileRead)\n",
    "    print(json.dumps(jsonData,indent = 2,ensure_ascii = False))\n",
    "    print(\"\")\n",
    "    print(jsonData)"
   ]
  },
  {
   "cell_type": "code",
   "execution_count": 43,
   "id": "17d1c10a",
   "metadata": {},
   "outputs": [
    {
     "name": "stdout",
     "output_type": "stream",
     "text": [
      "['5.1', '3.5', '1.4', '0.2', 'Iris-setosa']\n",
      "['4.9', '3.0', '1.4', '0.2', 'Iris-setosa']\n",
      "['4.7', '3.2', '1.3', '0.2', 'Iris-setosa']\n",
      "['4.6', '3.1', '1.5', '0.2', 'Iris-setosa']\n",
      "['5.0', '3.6', '1.4', '0.2', 'Iris-setosa']\n",
      "['5.4', '3.9', '1.7', '0.4', 'Iris-setosa']\n",
      "['4.6', '3.4', '1.4', '0.3', 'Iris-setosa']\n",
      "['5.0', '3.4', '1.5', '0.2', 'Iris-setosa']\n",
      "['4.4', '2.9', '1.4', '0.2', 'Iris-setosa']\n",
      "['4.9', '3.1', '1.5', '0.1', 'Iris-setosa']\n",
      "['5.4', '3.7', '1.5', '0.2', 'Iris-setosa']\n",
      "['4.8', '3.4', '1.6', '0.2', 'Iris-setosa']\n",
      "['4.8', '3.0', '1.4', '0.1', 'Iris-setosa']\n",
      "['4.3', '3.0', '1.1', '0.1', 'Iris-setosa']\n",
      "['5.8', '4.0', '1.2', '0.2', 'Iris-setosa']\n",
      "['5.7', '4.4', '1.5', '0.4', 'Iris-setosa']\n",
      "['5.4', '3.9', '1.3', '0.4', 'Iris-setosa']\n",
      "['5.1', '3.5', '1.4', '0.3', 'Iris-setosa']\n",
      "['5.7', '3.8', '1.7', '0.3', 'Iris-setosa']\n",
      "['5.1', '3.8', '1.5', '0.3', 'Iris-setosa']\n",
      "['5.4', '3.4', '1.7', '0.2', 'Iris-setosa']\n",
      "['5.1', '3.7', '1.5', '0.4', 'Iris-setosa']\n",
      "['4.6', '3.6', '1.0', '0.2', 'Iris-setosa']\n",
      "['5.1', '3.3', '1.7', '0.5', 'Iris-setosa']\n",
      "['4.8', '3.4', '1.9', '0.2', 'Iris-setosa']\n",
      "['5.0', '3.0', '1.6', '0.2', 'Iris-setosa']\n",
      "['5.0', '3.4', '1.6', '0.4', 'Iris-setosa']\n",
      "['5.2', '3.5', '1.5', '0.2', 'Iris-setosa']\n",
      "['5.2', '3.4', '1.4', '0.2', 'Iris-setosa']\n",
      "['4.7', '3.2', '1.6', '0.2', 'Iris-setosa']\n",
      "['4.8', '3.1', '1.6', '0.2', 'Iris-setosa']\n",
      "['5.4', '3.4', '1.5', '0.4', 'Iris-setosa']\n",
      "['5.2', '4.1', '1.5', '0.1', 'Iris-setosa']\n",
      "['5.5', '4.2', '1.4', '0.2', 'Iris-setosa']\n",
      "['4.9', '3.1', '1.5', '0.1', 'Iris-setosa']\n",
      "['5.0', '3.2', '1.2', '0.2', 'Iris-setosa']\n",
      "['5.5', '3.5', '1.3', '0.2', 'Iris-setosa']\n",
      "['4.9', '3.1', '1.5', '0.1', 'Iris-setosa']\n",
      "['4.4', '3.0', '1.3', '0.2', 'Iris-setosa']\n",
      "['5.1', '3.4', '1.5', '0.2', 'Iris-setosa']\n",
      "['5.0', '3.5', '1.3', '0.3', 'Iris-setosa']\n",
      "['4.5', '2.3', '1.3', '0.3', 'Iris-setosa']\n",
      "['4.4', '3.2', '1.3', '0.2', 'Iris-setosa']\n",
      "['5.0', '3.5', '1.6', '0.6', 'Iris-setosa']\n",
      "['5.1', '3.8', '1.9', '0.4', 'Iris-setosa']\n",
      "['4.8', '3.0', '1.4', '0.3', 'Iris-setosa']\n",
      "['5.1', '3.8', '1.6', '0.2', 'Iris-setosa']\n",
      "['4.6', '3.2', '1.4', '0.2', 'Iris-setosa']\n",
      "['5.3', '3.7', '1.5', '0.2', 'Iris-setosa']\n",
      "['5.0', '3.3', '1.4', '0.2', 'Iris-setosa']\n",
      "['7.0', '3.2', '4.7', '1.4', 'Iris-versicolor']\n",
      "['6.4', '3.2', '4.5', '1.5', 'Iris-versicolor']\n",
      "['6.9', '3.1', '4.9', '1.5', 'Iris-versicolor']\n",
      "['5.5', '2.3', '4.0', '1.3', 'Iris-versicolor']\n",
      "['6.5', '2.8', '4.6', '1.5', 'Iris-versicolor']\n",
      "['5.7', '2.8', '4.5', '1.3', 'Iris-versicolor']\n",
      "['6.3', '3.3', '4.7', '1.6', 'Iris-versicolor']\n",
      "['4.9', '2.4', '3.3', '1.0', 'Iris-versicolor']\n",
      "['6.6', '2.9', '4.6', '1.3', 'Iris-versicolor']\n",
      "['5.2', '2.7', '3.9', '1.4', 'Iris-versicolor']\n",
      "['5.0', '2.0', '3.5', '1.0', 'Iris-versicolor']\n",
      "['5.9', '3.0', '4.2', '1.5', 'Iris-versicolor']\n",
      "['6.0', '2.2', '4.0', '1.0', 'Iris-versicolor']\n",
      "['6.1', '2.9', '4.7', '1.4', 'Iris-versicolor']\n",
      "['5.6', '2.9', '3.6', '1.3', 'Iris-versicolor']\n",
      "['6.7', '3.1', '4.4', '1.4', 'Iris-versicolor']\n",
      "['5.6', '3.0', '4.5', '1.5', 'Iris-versicolor']\n",
      "['5.8', '2.7', '4.1', '1.0', 'Iris-versicolor']\n",
      "['6.2', '2.2', '4.5', '1.5', 'Iris-versicolor']\n",
      "['5.6', '2.5', '3.9', '1.1', 'Iris-versicolor']\n",
      "['5.9', '3.2', '4.8', '1.8', 'Iris-versicolor']\n",
      "['6.1', '2.8', '4.0', '1.3', 'Iris-versicolor']\n",
      "['6.3', '2.5', '4.9', '1.5', 'Iris-versicolor']\n",
      "['6.1', '2.8', '4.7', '1.2', 'Iris-versicolor']\n",
      "['6.4', '2.9', '4.3', '1.3', 'Iris-versicolor']\n",
      "['6.6', '3.0', '4.4', '1.4', 'Iris-versicolor']\n",
      "['6.8', '2.8', '4.8', '1.4', 'Iris-versicolor']\n",
      "['6.7', '3.0', '5.0', '1.7', 'Iris-versicolor']\n",
      "['6.0', '2.9', '4.5', '1.5', 'Iris-versicolor']\n",
      "['5.7', '2.6', '3.5', '1.0', 'Iris-versicolor']\n",
      "['5.5', '2.4', '3.8', '1.1', 'Iris-versicolor']\n",
      "['5.5', '2.4', '3.7', '1.0', 'Iris-versicolor']\n",
      "['5.8', '2.7', '3.9', '1.2', 'Iris-versicolor']\n",
      "['6.0', '2.7', '5.1', '1.6', 'Iris-versicolor']\n",
      "['5.4', '3.0', '4.5', '1.5', 'Iris-versicolor']\n",
      "['6.0', '3.4', '4.5', '1.6', 'Iris-versicolor']\n",
      "['6.7', '3.1', '4.7', '1.5', 'Iris-versicolor']\n",
      "['6.3', '2.3', '4.4', '1.3', 'Iris-versicolor']\n",
      "['5.6', '3.0', '4.1', '1.3', 'Iris-versicolor']\n",
      "['5.5', '2.5', '4.0', '1.3', 'Iris-versicolor']\n",
      "['5.5', '2.6', '4.4', '1.2', 'Iris-versicolor']\n",
      "['6.1', '3.0', '4.6', '1.4', 'Iris-versicolor']\n",
      "['5.8', '2.6', '4.0', '1.2', 'Iris-versicolor']\n",
      "['5.0', '2.3', '3.3', '1.0', 'Iris-versicolor']\n",
      "['5.6', '2.7', '4.2', '1.3', 'Iris-versicolor']\n",
      "['5.7', '3.0', '4.2', '1.2', 'Iris-versicolor']\n",
      "['5.7', '2.9', '4.2', '1.3', 'Iris-versicolor']\n",
      "['6.2', '2.9', '4.3', '1.3', 'Iris-versicolor']\n",
      "['5.1', '2.5', '3.0', '1.1', 'Iris-versicolor']\n",
      "['5.7', '2.8', '4.1', '1.3', 'Iris-versicolor']\n",
      "['6.3', '3.3', '6.0', '2.5', 'Iris-virginica']\n",
      "['5.8', '2.7', '5.1', '1.9', 'Iris-virginica']\n",
      "['7.1', '3.0', '5.9', '2.1', 'Iris-virginica']\n",
      "['6.3', '2.9', '5.6', '1.8', 'Iris-virginica']\n",
      "['6.5', '3.0', '5.8', '2.2', 'Iris-virginica']\n",
      "['7.6', '3.0', '6.6', '2.1', 'Iris-virginica']\n",
      "['4.9', '2.5', '4.5', '1.7', 'Iris-virginica']\n",
      "['7.3', '2.9', '6.3', '1.8', 'Iris-virginica']\n",
      "['6.7', '2.5', '5.8', '1.8', 'Iris-virginica']\n",
      "['7.2', '3.6', '6.1', '2.5', 'Iris-virginica']\n",
      "['6.5', '3.2', '5.1', '2.0', 'Iris-virginica']\n",
      "['6.4', '2.7', '5.3', '1.9', 'Iris-virginica']\n",
      "['6.8', '3.0', '5.5', '2.1', 'Iris-virginica']\n",
      "['5.7', '2.5', '5.0', '2.0', 'Iris-virginica']\n",
      "['5.8', '2.8', '5.1', '2.4', 'Iris-virginica']\n",
      "['6.4', '3.2', '5.3', '2.3', 'Iris-virginica']\n",
      "['6.5', '3.0', '5.5', '1.8', 'Iris-virginica']\n",
      "['7.7', '3.8', '6.7', '2.2', 'Iris-virginica']\n",
      "['7.7', '2.6', '6.9', '2.3', 'Iris-virginica']\n",
      "['6.0', '2.2', '5.0', '1.5', 'Iris-virginica']\n",
      "['6.9', '3.2', '5.7', '2.3', 'Iris-virginica']\n",
      "['5.6', '2.8', '4.9', '2.0', 'Iris-virginica']\n",
      "['7.7', '2.8', '6.7', '2.0', 'Iris-virginica']\n",
      "['6.3', '2.7', '4.9', '1.8', 'Iris-virginica']\n",
      "['6.7', '3.3', '5.7', '2.1', 'Iris-virginica']\n",
      "['7.2', '3.2', '6.0', '1.8', 'Iris-virginica']\n",
      "['6.2', '2.8', '4.8', '1.8', 'Iris-virginica']\n",
      "['6.1', '3.0', '4.9', '1.8', 'Iris-virginica']\n",
      "['6.4', '2.8', '5.6', '2.1', 'Iris-virginica']\n",
      "['7.2', '3.0', '5.8', '1.6', 'Iris-virginica']\n",
      "['7.4', '2.8', '6.1', '1.9', 'Iris-virginica']\n",
      "['7.9', '3.8', '6.4', '2.0', 'Iris-virginica']\n",
      "['6.4', '2.8', '5.6', '2.2', 'Iris-virginica']\n",
      "['6.3', '2.8', '5.1', '1.5', 'Iris-virginica']\n",
      "['6.1', '2.6', '5.6', '1.4', 'Iris-virginica']\n",
      "['7.7', '3.0', '6.1', '2.3', 'Iris-virginica']\n",
      "['6.3', '3.4', '5.6', '2.4', 'Iris-virginica']\n",
      "['6.4', '3.1', '5.5', '1.8', 'Iris-virginica']\n",
      "['6.0', '3.0', '4.8', '1.8', 'Iris-virginica']\n",
      "['6.9', '3.1', '5.4', '2.1', 'Iris-virginica']\n",
      "['6.7', '3.1', '5.6', '2.4', 'Iris-virginica']\n",
      "['6.9', '3.1', '5.1', '2.3', 'Iris-virginica']\n",
      "['5.8', '2.7', '5.1', '1.9', 'Iris-virginica']\n",
      "['6.8', '3.2', '5.9', '2.3', 'Iris-virginica']\n",
      "['6.7', '3.3', '5.7', '2.5', 'Iris-virginica']\n",
      "['6.7', '3.0', '5.2', '2.3', 'Iris-virginica']\n",
      "['6.3', '2.5', '5.0', '1.9', 'Iris-virginica']\n",
      "['6.5', '3.0', '5.2', '2.0', 'Iris-virginica']\n",
      "['6.2', '3.4', '5.4', '2.3', 'Iris-virginica']\n",
      "['5.9', '3.0', '5.1', '1.8', 'Iris-virginica']\n",
      "['']\n"
     ]
    }
   ],
   "source": [
    "with open(\"iris.csv\",\"r\") as f:\n",
    "    for data in f:\n",
    "        data = data.rstrip()\n",
    "        splited = data.split(\",\")\n",
    "        print(splited)"
   ]
  },
  {
   "cell_type": "code",
   "execution_count": 16,
   "id": "a0f65f69",
   "metadata": {},
   "outputs": [],
   "source": [
    "import random\n",
    "import string\n",
    "\n",
    "ramdomAlphanumeric = [''.join([random.choice(string.ascii_letters + string.digits) for i in range(8)]) for j in range(8)]\n",
    "\n",
    "with open(\"password.txt\", \"w\") as f:\n",
    "    for string in ramdomAlphanumeric:\n",
    "        f.write(string + '\\n')"
   ]
  },
  {
   "cell_type": "code",
   "execution_count": 20,
   "id": "bf96c647",
   "metadata": {},
   "outputs": [],
   "source": [
    "CAMPUS_NAME = ('Yoyogi', 'Yokohama', 'Omiya', 'Ochanomizu', 'Chiba', 'Tachikawa', 'Kashiwa', 'Sendai')\n",
    "passwords = []\n",
    "\n",
    "with open(\"password.txt\",\"r\") as f:\n",
    "    for data in f:\n",
    "        passwords.append(data.rstrip())\n",
    "        \n",
    "with open(\"id_pass.txt\",\"w\") as f:\n",
    "    f.write(str(dict(zip(CAMPUS_NAME,passwords))))\n"
   ]
  },
  {
   "cell_type": "code",
   "execution_count": 21,
   "id": "b8aff054",
   "metadata": {},
   "outputs": [],
   "source": [
    "import json\n",
    "\n",
    "campusData = {}\n",
    "CAMPUS_NAME = ('Yoyogi', 'Yokohama', 'Omiya', 'Ochanomizu', 'Chiba', 'Tachikawa', 'Kashiwa', 'Sendai')\n",
    "CAMPUS_PREF = ('Tokyo', 'Kanagawa', 'Saitama', 'Tokyo', 'Chiba', 'Tokyo', 'Chiba', 'Miyagi')\n",
    "CAMPUS_NLABO= (True, True, True, False, False, False, False, False)\n",
    "passwords = []\n",
    "with open(\"password.txt\",\"r\") as f:\n",
    "    for data in f:\n",
    "        passwords.append(data.rstrip())\n",
    "        \n",
    "for password,campus,place,nlabo in zip(passwords,CAMPUS_NAME,CAMPUS_PREF,CAMPUS_NLABO):\n",
    "    campusData[campus] = {\"PLACE\":place,\"NLABO\":nlabo,\"Password\":password}\n",
    "\n",
    "with open(\"campus_data.json\",\"w\") as f:\n",
    "    json.dump(campusData,f,indent = 2)"
   ]
  },
  {
   "cell_type": "code",
   "execution_count": 27,
   "id": "ac590dcc",
   "metadata": {},
   "outputs": [
    {
     "name": "stdout",
     "output_type": "stream",
     "text": [
      "{\n",
      "                                                  \"Yoyogi\": {\n",
      "                                                                                                    \"PLACE\": \"Tokyo\",\n",
      "                                                                                                    \"NLABO\": true,\n",
      "                                                                                                    \"Password\": \"IWobJIg5\"\n",
      "                                                  },\n",
      "                                                  \"Yokohama\": {\n",
      "                                                                                                    \"PLACE\": \"Kanagawa\",\n",
      "                                                                                                    \"NLABO\": true,\n",
      "                                                                                                    \"Password\": \"sqpfQCXX\"\n",
      "                                                  },\n",
      "                                                  \"Omiya\": {\n",
      "                                                                                                    \"PLACE\": \"Saitama\",\n",
      "                                                                                                    \"NLABO\": true,\n",
      "                                                                                                    \"Password\": \"dpSGLgMw\"\n",
      "                                                  },\n",
      "                                                  \"Ochanomizu\": {\n",
      "                                                                                                    \"PLACE\": \"Tokyo\",\n",
      "                                                                                                    \"NLABO\": false,\n",
      "                                                                                                    \"Password\": \"NDgPS2cZ\"\n",
      "                                                  },\n",
      "                                                  \"Chiba\": {\n",
      "                                                                                                    \"PLACE\": \"Chiba\",\n",
      "                                                                                                    \"NLABO\": false,\n",
      "                                                                                                    \"Password\": \"8Fm8fH4P\"\n",
      "                                                  },\n",
      "                                                  \"Tachikawa\": {\n",
      "                                                                                                    \"PLACE\": \"Tokyo\",\n",
      "                                                                                                    \"NLABO\": false,\n",
      "                                                                                                    \"Password\": \"OPkSOBJe\"\n",
      "                                                  },\n",
      "                                                  \"Kashiwa\": {\n",
      "                                                                                                    \"PLACE\": \"Chiba\",\n",
      "                                                                                                    \"NLABO\": false,\n",
      "                                                                                                    \"Password\": \"1Dq97vd6\"\n",
      "                                                  },\n",
      "                                                  \"Sendai\": {\n",
      "                                                                                                    \"PLACE\": \"Miyagi\",\n",
      "                                                                                                    \"NLABO\": false,\n",
      "                                                                                                    \"Password\": \"Ug0XG7Qg\"\n",
      "                                                  }\n",
      "}\n"
     ]
    }
   ],
   "source": [
    "import json\n",
    "with open(\"campus_data.json\",\"r\") as f:\n",
    "    loadedData = json.load(f)\n",
    "    print(json.dumps(loadedData,indent = 50))"
   ]
  }
 ],
 "metadata": {
  "kernelspec": {
   "display_name": "Python 3 (ipykernel)",
   "language": "python",
   "name": "python3"
  },
  "language_info": {
   "codemirror_mode": {
    "name": "ipython",
    "version": 3
   },
   "file_extension": ".py",
   "mimetype": "text/x-python",
   "name": "python",
   "nbconvert_exporter": "python",
   "pygments_lexer": "ipython3",
   "version": "3.9.7"
  }
 },
 "nbformat": 4,
 "nbformat_minor": 5
}
