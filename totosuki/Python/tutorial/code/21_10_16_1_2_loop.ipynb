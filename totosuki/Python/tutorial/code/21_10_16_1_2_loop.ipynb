{
 "cells": [
  {
   "cell_type": "code",
   "execution_count": null,
   "id": "cf335523",
   "metadata": {
    "scrolled": true
   },
   "outputs": [],
   "source": [
    "continue_question = True\n",
    "while(continue_question):\n",
    "    number = int(input(\"数字を入力してください:\",))\n",
    "    if(number % 2 == 0):\n",
    "        print(\"偶数\")\n",
    "        continue_question = False\n",
    "    elif(number % 2 == 1):\n",
    "        print(\"奇数\")\n",
    "        continue_question = False\n",
    "    else:\n",
    "        print(\"もう一度入力してください\")\n"
   ]
  },
  {
   "cell_type": "code",
   "execution_count": null,
   "id": "01e56bca",
   "metadata": {},
   "outputs": [],
   "source": [
    "print(sum(x for x in range(100,200) if x % 2 == 0))"
   ]
  },
  {
   "cell_type": "code",
   "execution_count": null,
   "id": "60cb3a61",
   "metadata": {},
   "outputs": [],
   "source": [
    "firstWord = input(\"文字を入力:\",)\n",
    "secondWord = input(\"文字を入力\",)\n",
    "word = []\n",
    "for firstNumber in range(len(firstWord)):\n",
    "    for secondNumber in range(len(secondWord)):\n",
    "        if(firstWord[firstNumber] == secondWord[secondNumber]):\n",
    "            word.append(firstWord[firstNumber])\n",
    "print(f\"重なった文字は{word}達です\")"
   ]
  },
  {
   "cell_type": "code",
   "execution_count": null,
   "id": "9fb614ba",
   "metadata": {},
   "outputs": [],
   "source": [
    "import random\n",
    "randomNumber = 1\n",
    "for x in range(10):\n",
    "    randomNumber = random.randint(0,100)\n",
    "    print(randomNumber)\n"
   ]
  },
  {
   "cell_type": "code",
   "execution_count": null,
   "id": "9fe9a0d0",
   "metadata": {},
   "outputs": [],
   "source": [
    "number = int(input(\"数字を入力してください:\",))\n",
    "print(number % 2 == 0)"
   ]
  },
  {
   "cell_type": "code",
   "execution_count": null,
   "id": "95720f8e",
   "metadata": {},
   "outputs": [],
   "source": [
    "firstWord = input(\"文字を入力:\",)\n",
    "secondWord = input(\"文字を入力:\",)\n",
    "word = {string for string in firstWord for string2 in secondWord if string == string2}\n",
    "print(word)"
   ]
  },
  {
   "cell_type": "code",
   "execution_count": null,
   "id": "20904d95",
   "metadata": {},
   "outputs": [],
   "source": [
    "import random\n",
    "randomList = [random.randint(0,100) for i in range(10)]\n",
    "print(randomList)"
   ]
  },
  {
   "cell_type": "code",
   "execution_count": null,
   "id": "69d8d7fd",
   "metadata": {},
   "outputs": [],
   "source": [
    "a = 1\n",
    "b = 1\n",
    "c = 1\n",
    "while a < 2 ** 20:\n",
    "    print(a)\n",
    "    c = a\n",
    "    a = b\n",
    "    b = c + b"
   ]
  }
 ],
 "metadata": {
  "kernelspec": {
   "display_name": "Python 3 (ipykernel)",
   "language": "python",
   "name": "python3"
  },
  "language_info": {
   "codemirror_mode": {
    "name": "ipython",
    "version": 3
   },
   "file_extension": ".py",
   "mimetype": "text/x-python",
   "name": "python",
   "nbconvert_exporter": "python",
   "pygments_lexer": "ipython3",
   "version": "3.9.7"
  }
 },
 "nbformat": 4,
 "nbformat_minor": 5
}
