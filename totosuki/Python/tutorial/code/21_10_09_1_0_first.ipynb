{
 "cells": [
  {
   "cell_type": "code",
   "execution_count": null,
   "id": "f5448ad5",
   "metadata": {},
   "outputs": [],
   "source": [
    "name1 = \"パタトクカシーー\"\n",
    "name2 = name1[0:8:2]\n",
    "name3 = name1[1:8:2]\n",
    "print(name2)\n",
    "print(name3)"
   ]
  },
  {
   "cell_type": "code",
   "execution_count": null,
   "id": "082f1d48",
   "metadata": {},
   "outputs": [],
   "source": [
    "name4 = \"\"\n",
    "for i in range(4):\n",
    "    name4 += name2[i]\n",
    "    name4 += name3[i]\n",
    "print(name4)"
   ]
  },
  {
   "cell_type": "code",
   "execution_count": null,
   "id": "ada5d5b6",
   "metadata": {},
   "outputs": [],
   "source": [
    "colors = [\"赤\",\"青\",\"黄色\",\"黒\"]\n",
    "print(colors[0] + colors[3])"
   ]
  }
 ],
 "metadata": {
  "kernelspec": {
   "display_name": "Python 3 (ipykernel)",
   "language": "python",
   "name": "python3"
  },
  "language_info": {
   "codemirror_mode": {
    "name": "ipython",
    "version": 3
   },
   "file_extension": ".py",
   "mimetype": "text/x-python",
   "name": "python",
   "nbconvert_exporter": "python",
   "pygments_lexer": "ipython3",
   "version": "3.9.7"
  }
 },
 "nbformat": 4,
 "nbformat_minor": 5
}
