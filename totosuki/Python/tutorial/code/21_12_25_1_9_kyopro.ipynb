{
 "cells": [
  {
   "cell_type": "code",
   "execution_count": null,
   "id": "87349a60",
   "metadata": {},
   "outputs": [],
   "source": [
    "#競プロ関連だったのでAtCoderの方に後で移動するね！"
   ]
  },
  {
   "cell_type": "code",
   "execution_count": null,
   "id": "daf065a8",
   "metadata": {},
   "outputs": [],
   "source": [
    "#やったもの一覧\n",
    "#Welcome to AtCoder\n",
    "#ABC086A - Product\n",
    "#ABC081A - Placing Marbles\n",
    "#ABC081B - Shift only\n",
    "#ABC064A - RGB Cards\n",
    "#ABC088A - Infinite Coins\n",
    "#ABC157A - Duplex Printing\n",
    "#ABC095A - Something on it\n",
    "#ABC085A - Already 2018\n",
    "#ABC069B - i18n\n",
    "#ABC082B - Two Anagrams\n",
    "#ABC068B - Break Number\n",
    "#ABC102B - Maximum Difference\n",
    "#ABC113B - Palace"
   ]
  }
 ],
 "metadata": {
  "kernelspec": {
   "display_name": "Python 3 (ipykernel)",
   "language": "python",
   "name": "python3"
  },
  "language_info": {
   "codemirror_mode": {
    "name": "ipython",
    "version": 3
   },
   "file_extension": ".py",
   "mimetype": "text/x-python",
   "name": "python",
   "nbconvert_exporter": "python",
   "pygments_lexer": "ipython3",
   "version": "3.10.0"
  }
 },
 "nbformat": 4,
 "nbformat_minor": 5
}
