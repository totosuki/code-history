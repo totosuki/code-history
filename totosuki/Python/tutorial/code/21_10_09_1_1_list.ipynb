{
 "cells": [
  {
   "cell_type": "code",
   "execution_count": null,
   "id": "437eb684",
   "metadata": {},
   "outputs": [],
   "source": [
    "name1 = \"パタトクカシーー\"\n",
    "name2 = name1[0:8:2]\n",
    "name3 = name1[1:8:2]\n",
    "print(name2)\n",
    "print(name3)"
   ]
  },
  {
   "cell_type": "code",
   "execution_count": null,
   "id": "07130879",
   "metadata": {},
   "outputs": [],
   "source": [
    "name4 = \"\"\n",
    "for i in range(4):\n",
    "    name4 += name2[i]\n",
    "    name4 += name3[i]\n",
    "print(name4)"
   ]
  },
  {
   "cell_type": "code",
   "execution_count": null,
   "id": "3d916ea0",
   "metadata": {},
   "outputs": [],
   "source": [
    "colors = [\"赤\",\"青\",\"黄色\",\"黒\"]\n",
    "print(colors[0] + colors[3])"
   ]
  },
  {
   "cell_type": "code",
   "execution_count": null,
   "id": "465ce625",
   "metadata": {},
   "outputs": [],
   "source": [
    "sentence1 = \"I like AI\"\n",
    "name5 = \"\"\n",
    "for i in range(len(\"sentence1\")):\n",
    "    i += 1\n",
    "    name5 += sentence1[-i]\n",
    "print(name5)"
   ]
  },
  {
   "cell_type": "code",
   "execution_count": null,
   "id": "9603e6d5",
   "metadata": {},
   "outputs": [],
   "source": [
    "word = \"I like AI\"\n",
    "print(word[::-1])"
   ]
  }
 ],
 "metadata": {
  "kernelspec": {
   "display_name": "Python 3 (ipykernel)",
   "language": "python",
   "name": "python3"
  },
  "language_info": {
   "codemirror_mode": {
    "name": "ipython",
    "version": 3
   },
   "file_extension": ".py",
   "mimetype": "text/x-python",
   "name": "python",
   "nbconvert_exporter": "python",
   "pygments_lexer": "ipython3",
   "version": "3.9.7"
  }
 },
 "nbformat": 4,
 "nbformat_minor": 5
}
