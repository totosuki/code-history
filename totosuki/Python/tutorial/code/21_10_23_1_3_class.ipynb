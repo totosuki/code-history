{
 "cells": [
  {
   "cell_type": "code",
   "execution_count": null,
   "id": "c177b24d",
   "metadata": {},
   "outputs": [],
   "source": [
    "import random\n",
    "fruit = [\"apple\",\"banana\",\"peach\"]\n",
    "print(random.choices(fruit,k = 6))"
   ]
  },
  {
   "cell_type": "code",
   "execution_count": null,
   "id": "4b02e914",
   "metadata": {},
   "outputs": [],
   "source": [
    "from datetime import datetime,timedelta,timezone\n",
    "dtm_str = \"2021-10-23 15:59:30\"\n",
    "dtm = datetime.strptime(dtm_str,\"%Y-%m-%d %H:%M:%S\")\n",
    "print(dtm)\n",
    "print(dtm + timedelta(weeks = 1,hours = 5))\n",
    "datetime.strptime"
   ]
  },
  {
   "cell_type": "code",
   "execution_count": null,
   "id": "6c95ce33",
   "metadata": {},
   "outputs": [],
   "source": [
    "numberList = [5,10,-25,-100]\n",
    "\n",
    "for i in numberList:\n",
    "    print(oddOrEven(i))\n",
    "\n",
    "def oddOrEven(number):\n",
    "    if(number % 2 == 0):\n",
    "        return \"Even\"\n",
    "    elif(number % 2 == 1):\n",
    "        return \"Odd\""
   ]
  },
  {
   "cell_type": "code",
   "execution_count": null,
   "id": "19f8c0d9",
   "metadata": {},
   "outputs": [],
   "source": [
    "\n",
    "def fibonacci(n):\n",
    "    if n <= 1:\n",
    "        return n\n",
    "    \n",
    "    return fibonacci(n-1) + fibonacci(n-2)\n",
    "\n",
    "print(fibonacci(25))\n",
    "print(fibonacci(30))"
   ]
  },
  {
   "cell_type": "code",
   "execution_count": null,
   "id": "2c8b8d9a",
   "metadata": {},
   "outputs": [],
   "source": [
    "import random\n",
    "\n",
    "def montecarlo(trial):\n",
    "    inner = 0\n",
    "    for i in range(trial):\n",
    "        x, y = random.random(), random.random()\n",
    "        if x**2 + y**2 < 1:\n",
    "            inner += 1\n",
    "    return inner * 4 / trial\n",
    "            \n",
    "trial = 1000000\n",
    "ans = montecarlo(trial)\n",
    "print(ans)"
   ]
  },
  {
   "cell_type": "code",
   "execution_count": null,
   "id": "85695fb4",
   "metadata": {},
   "outputs": [],
   "source": [
    "class Bank():\n",
    "    def __init__(self,accountName,accountNumber,accountMoney):\n",
    "        self.name = accountName\n",
    "        self.number = accountNumber\n",
    "        self.money = accountMoney\n",
    "    \n",
    "    def information(self):\n",
    "        print(f\"AccountName:{self.name}\")\n",
    "        print(f\"AccountNumber:{self.number}\")\n",
    "        print(f\"AccountMoney:{self.money}\")\n",
    "        \n",
    "    def addMoney(self,newMoney):\n",
    "        self.money += newMoney\n",
    "        print(f\"Your money is:{self.money}\")\n",
    "        \n",
    "    def useMoney(self,newMoney):\n",
    "        self.money -= newMoney\n",
    "        print(f\"Your money is:{self.money}\")\n",
    "        \n",
    "accountList = [Bank(\"Taro\",123456,50000),Bank(\"Jiro\",789012,100000)]\n",
    "for bank in accountList:\n",
    "    bank.information()\n",
    "\n",
    "accountList[0].addMoney(30000)\n",
    "accountList[1].useMoney(20000)"
   ]
  }
 ],
 "metadata": {
  "kernelspec": {
   "display_name": "Python 3 (ipykernel)",
   "language": "python",
   "name": "python3"
  },
  "language_info": {
   "codemirror_mode": {
    "name": "ipython",
    "version": 3
   },
   "file_extension": ".py",
   "mimetype": "text/x-python",
   "name": "python",
   "nbconvert_exporter": "python",
   "pygments_lexer": "ipython3",
   "version": "3.9.7"
  }
 },
 "nbformat": 4,
 "nbformat_minor": 5
}
