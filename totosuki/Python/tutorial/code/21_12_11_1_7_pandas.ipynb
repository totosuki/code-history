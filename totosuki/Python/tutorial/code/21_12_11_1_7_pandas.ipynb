{
 "cells": [
  {
   "cell_type": "code",
   "execution_count": null,
   "id": "ee537a4f",
   "metadata": {},
   "outputs": [],
   "source": [
    "import numpy as np\n",
    "import pandas as pd"
   ]
  },
  {
   "cell_type": "code",
   "execution_count": null,
   "id": "61bd4724",
   "metadata": {},
   "outputs": [],
   "source": [
    "arr = [[10,20,30],[20,30,40]]\n",
    "pd.DataFrame(arr)\n",
    "dic = {'a': ['Tokyo','Kanagawa','Chiba'],'b':['Saitama','Tochigi','Ibaraki']}\n",
    "pd.DataFrame(dic)\n",
    "array = [[12,34,56],[78,90,12]]\n",
    "pd.DataFrame(array)"
   ]
  },
  {
   "cell_type": "code",
   "execution_count": null,
   "id": "13cf04a1",
   "metadata": {},
   "outputs": [],
   "source": [
    "state = pd.Series([\"Tokyo\", \"Osaka\", \"Aichi\", \"Hiroshima\", \"Fukuoka\"])\n",
    "population = pd.Series([13515, 8839, 7483, 2844, 5102])  # 人口, 1000人単位\n",
    "num_household = pd.Series([6691, 3918, 3060, 1209, 2197])  # 世帯数, 1000戸単位\n",
    "\n",
    "pd.DataFrame({\n",
    "    \"state\" : state,\n",
    "    \"population\": population,\n",
    "    \"num_household\":num_household\n",
    "})\n",
    "\n",
    "# statistic"
   ]
  },
  {
   "cell_type": "code",
   "execution_count": null,
   "id": "b1bc0395",
   "metadata": {},
   "outputs": [],
   "source": [
    "statistic_dict = {\n",
    "   \"population\" : {\"Tokyo\": 13515, \"Osaka\": 8839, \"Aichi\": 7483, \"Hiroshima\": 2844, \"Fukuoka\": 5102 },\n",
    "   \"num_household\": {\"Osaka\":3918, \"Aichi\":3060,\"Tokyo\":6691, \"Hiroshima\":1209, \"Fukuoka\": 2197}\n",
    "}\n",
    "\n",
    "statistic_2 = pd.DataFrame(statistic_dict)\n",
    "\n",
    "statistic_2\n",
    "statistic_3 = statistic_2.T\n",
    "statistic_3\n",
    "statistic_3['Hokkaido'] = [5506, 2438]\n",
    "statistic_3\n",
    "del statistic_3['Hokkaido']\n",
    "statistic_3\n",
    "statistic_3.iloc[1, 3]"
   ]
  },
  {
   "cell_type": "code",
   "execution_count": null,
   "id": "d0f73946",
   "metadata": {},
   "outputs": [],
   "source": [
    "df = pd.read_csv(\"weather.csv\",sep = \",\")\n",
    "df.head()"
   ]
  },
  {
   "cell_type": "code",
   "execution_count": null,
   "id": "26185b2a",
   "metadata": {},
   "outputs": [],
   "source": [
    "print(\"df.shape\",df.shape)\n",
    "print()\n",
    "print(\"df.index\",df.index)\n",
    "print()\n",
    "print(\"df.columns\",df.columns)\n",
    "print()\n",
    "print(\"df.dtypes'\\n\",df.dtypes)"
   ]
  },
  {
   "cell_type": "code",
   "execution_count": null,
   "id": "b4fd6d4e",
   "metadata": {},
   "outputs": [],
   "source": [
    "df[[\"date\",\"ave_temperature\"]].head()"
   ]
  },
  {
   "cell_type": "code",
   "execution_count": null,
   "id": "fa44983e",
   "metadata": {},
   "outputs": [],
   "source": [
    "df.iloc[[0,31,61],[1,3,4,5]]"
   ]
  },
  {
   "cell_type": "code",
   "execution_count": null,
   "id": "0c5e8f89",
   "metadata": {},
   "outputs": [],
   "source": [
    "df[df[\"max_temperature\"] < 15]"
   ]
  },
  {
   "cell_type": "code",
   "execution_count": null,
   "id": "d6fa6a5d",
   "metadata": {},
   "outputs": [],
   "source": [
    "df[\"max_wind_direction\"].unique()"
   ]
  },
  {
   "cell_type": "code",
   "execution_count": null,
   "id": "aad18942",
   "metadata": {},
   "outputs": [],
   "source": [
    "print(len(df) == len(df[\"date\"].unique()))\n",
    "print(df[\"precipitation\"].sum())\n",
    "print(df[\"precipitation\"].mean())"
   ]
  },
  {
   "cell_type": "code",
   "execution_count": null,
   "id": "e86cf33f",
   "metadata": {},
   "outputs": [],
   "source": [
    "df.describe()"
   ]
  },
  {
   "cell_type": "code",
   "execution_count": null,
   "id": "5929ebfb",
   "metadata": {},
   "outputs": [],
   "source": [
    "df.set_index(\"date\",inplace = True)\n",
    "df.head()"
   ]
  },
  {
   "cell_type": "code",
   "execution_count": null,
   "id": "02595c12",
   "metadata": {},
   "outputs": [],
   "source": [
    "df.rename(columns = {\"降水量\":\"precipitation\"},inplace = True)\n",
    "df.head()"
   ]
  },
  {
   "cell_type": "code",
   "execution_count": null,
   "id": "ed95347a",
   "metadata": {},
   "outputs": [],
   "source": [
    "df.sort_values(['max_wind_direction', 'ave_temperature'],ascending = True).head()"
   ]
  },
  {
   "cell_type": "code",
   "execution_count": null,
   "id": "9dcaedc3",
   "metadata": {},
   "outputs": [],
   "source": [
    "df.index = pd.to_datetime(df.index,format = \"%Y-%m-%d\")\n",
    "df.index"
   ]
  },
  {
   "cell_type": "code",
   "execution_count": null,
   "id": "ddb63d86",
   "metadata": {},
   "outputs": [],
   "source": [
    "df.sort_index().head()\n",
    "df.resample(\"m\").mean()"
   ]
  },
  {
   "cell_type": "code",
   "execution_count": null,
   "id": "10c6fcc3",
   "metadata": {},
   "outputs": [],
   "source": [
    "df[\"month\"] = list(pd.Series(df.index).apply(lambda x:x.month))\n",
    "df[\"day\"] = list(pd.Series(df.index).apply(lambda x:x.day))\n",
    "df.head()"
   ]
  },
  {
   "cell_type": "code",
   "execution_count": null,
   "id": "888b448c",
   "metadata": {},
   "outputs": [],
   "source": [
    "labels = [\"Beginning\",\"Middle\",\"End\"]\n",
    "df[\"period\"] = pd.cut(list(df[\"day\"]),bins = [0,10,20,31],labels = labels,right = True)\n",
    "df[15:30]\n",
    "# df.tail()"
   ]
  },
  {
   "cell_type": "code",
   "execution_count": null,
   "id": "aaebbbac",
   "metadata": {},
   "outputs": [],
   "source": [
    "df.to_csv('processed_weather.csv', encoding='utf-8')"
   ]
  },
  {
   "cell_type": "code",
   "execution_count": null,
   "id": "2696687b",
   "metadata": {},
   "outputs": [],
   "source": [
    "%matplotlib inline\n",
    "\n",
    "import matplotlib.pyplot as plt\n",
    "plt.style.use(\"ggplot\")"
   ]
  },
  {
   "cell_type": "code",
   "execution_count": null,
   "id": "267daafb",
   "metadata": {},
   "outputs": [],
   "source": [
    "df[\"max_temperature\"].plot()"
   ]
  },
  {
   "cell_type": "code",
   "execution_count": null,
   "id": "a33e9b34",
   "metadata": {},
   "outputs": [],
   "source": [
    "df.plot(y=['ave_temperature', 'max_temperature', 'min_temperature'], figsize=(16,4))"
   ]
  },
  {
   "cell_type": "code",
   "execution_count": null,
   "id": "1a494812",
   "metadata": {},
   "outputs": [],
   "source": [
    "monthly_df = pd.DataFrame(df.groupby(['month', 'period'])['precipitation'].sum())\n",
    "pivot_monthly_df = monthly_df.reset_index().pivot(index='month', columns='period', values='precipitation')\n",
    "pivot_monthly_df.plot(kind='bar', alpha=0.6, figsize=(12,3)).legend()\n",
    "plt.ylabel('precipitation')"
   ]
  },
  {
   "cell_type": "code",
   "execution_count": null,
   "id": "caabc8ee",
   "metadata": {},
   "outputs": [],
   "source": [
    "df2 = pd.read_csv('titanic.csv', sep=',')"
   ]
  },
  {
   "cell_type": "code",
   "execution_count": null,
   "id": "f5774f11",
   "metadata": {},
   "outputs": [],
   "source": [
    "print('df2.shape: ', df2.shape)\n",
    "print('df2.dtypes: ', df2.dtypes)"
   ]
  },
  {
   "cell_type": "code",
   "execution_count": null,
   "id": "2d6e002a",
   "metadata": {},
   "outputs": [],
   "source": [
    "df2.isnull().sum()"
   ]
  },
  {
   "cell_type": "code",
   "execution_count": null,
   "id": "0dd48151",
   "metadata": {},
   "outputs": [],
   "source": [
    "df2[df2.isnull().any(axis=1)].head()"
   ]
  },
  {
   "cell_type": "code",
   "execution_count": null,
   "id": "d35b34cb",
   "metadata": {},
   "outputs": [],
   "source": [
    "df2.fillna(value={'Cabin': 'X'}, inplace=True)\n",
    "df2.head(10)\n",
    "df2.isnull().sum()"
   ]
  },
  {
   "cell_type": "code",
   "execution_count": null,
   "id": "5e5148ff",
   "metadata": {},
   "outputs": [],
   "source": [
    "df2.dropna(subset=['Age'], axis=0, inplace=True)\n",
    "df2[df2.isnull().any(axis=1)].head()"
   ]
  },
  {
   "cell_type": "code",
   "execution_count": null,
   "id": "ad777da9",
   "metadata": {},
   "outputs": [],
   "source": [
    "df2['Embarked'] = df2['Embarked'].replace(np.nan, 'C').astype(object)\n",
    "df2.isnull().sum()"
   ]
  },
  {
   "cell_type": "code",
   "execution_count": null,
   "id": "3da098df",
   "metadata": {},
   "outputs": [],
   "source": [
    "df2[df2['Age'] < 1]"
   ]
  },
  {
   "cell_type": "code",
   "execution_count": null,
   "id": "0ea8c788",
   "metadata": {},
   "outputs": [],
   "source": [
    "df2['Age'].mask(df2['Age'] <1.0, 0.0, inplace=True)\n",
    "df2[df2['Age'] < 1]"
   ]
  },
  {
   "cell_type": "code",
   "execution_count": null,
   "id": "bf18d881",
   "metadata": {},
   "outputs": [],
   "source": [
    "df2.drop(['PassengerId'], axis=1, inplace=True)\n",
    "df2.head()"
   ]
  },
  {
   "cell_type": "code",
   "execution_count": null,
   "id": "df287fb1",
   "metadata": {},
   "outputs": [],
   "source": [
    "dummy_df2 = pd.get_dummies(df2, columns=['Sex', 'Embarked'])\n",
    "dummy_df2.head()"
   ]
  },
  {
   "cell_type": "code",
   "execution_count": null,
   "id": "9da3bbd0",
   "metadata": {},
   "outputs": [],
   "source": [
    "df2.groupby(['Pclass'])['Name'].count()"
   ]
  },
  {
   "cell_type": "code",
   "execution_count": null,
   "id": "e6ce17c4",
   "metadata": {},
   "outputs": [],
   "source": [
    "df2.groupby(['Pclass', 'Sex'])['Survived'].sum()"
   ]
  },
  {
   "cell_type": "code",
   "execution_count": null,
   "id": "95a39ee5",
   "metadata": {},
   "outputs": [],
   "source": [
    "df2.groupby(['Pclass', 'Sex'])['Age'].mean()"
   ]
  },
  {
   "cell_type": "code",
   "execution_count": null,
   "id": "ef22851b",
   "metadata": {},
   "outputs": [],
   "source": [
    "df['ave_temperature_diff'] = df['ave_temperature'].diff(periods=1)\n",
    "df[['ave_temperature','ave_temperature_diff']].head()"
   ]
  },
  {
   "cell_type": "code",
   "execution_count": null,
   "id": "08e266cc",
   "metadata": {},
   "outputs": [],
   "source": [
    "import pandas as pd\n",
    "import numpy as np\n",
    "import matplotlib.pyplot as plt\n",
    "import random"
   ]
  },
  {
   "cell_type": "code",
   "execution_count": null,
   "id": "9d871059",
   "metadata": {},
   "outputs": [],
   "source": [
    "pd.DataFrame([[random.random(),random.random(),random.random()],[random.random(),random.random(),random.random()]],index = [\"a\",\"b\"])"
   ]
  },
  {
   "cell_type": "code",
   "execution_count": null,
   "id": "2f7336cf",
   "metadata": {},
   "outputs": [],
   "source": [
    "language = pd.Series([\"C#\",\"Scratch\",\"Javascript\",\"Swift\",\"Ruby\",\"Blender\",\"Processing\",\"C++\",\"Python\"])\n",
    "numOfStudents = pd.Series([15,5,10,3,1,8,0,3,2])\n",
    "subjects = pd.Series([\"Unity\",\"Scratch\",\"Web\",\"iOS\",\"Ruby\",\"Modeling\",\"Processing\",\"Competitive Prg\",\"AI/ML\"])\n",
    "\n",
    "program = pd.DataFrame({\"Subjects\":subjects,\"Num of Students\":numOfStudents,\"Language\":language})\n",
    "program"
   ]
  },
  {
   "cell_type": "code",
   "execution_count": null,
   "id": "a3a2f874",
   "metadata": {},
   "outputs": [],
   "source": [
    "print(program[\"Num of Students\"].sum())"
   ]
  },
  {
   "cell_type": "code",
   "execution_count": null,
   "id": "35de6584",
   "metadata": {},
   "outputs": [],
   "source": [
    "program.sort_values(by = \"Num of Students\",ascending = False).head(9)"
   ]
  },
  {
   "cell_type": "code",
   "execution_count": null,
   "id": "15e6a96d",
   "metadata": {},
   "outputs": [],
   "source": [
    "storeData = pd.read_csv('store.csv', sep=',')\n",
    "storeData"
   ]
  },
  {
   "cell_type": "code",
   "execution_count": null,
   "id": "6151f1f8",
   "metadata": {},
   "outputs": [],
   "source": [
    "print(storeData.shape)\n",
    "storeData[[\"branch\",\"numwork\",\"sales\"]].head()"
   ]
  },
  {
   "cell_type": "code",
   "execution_count": null,
   "id": "318acbe5",
   "metadata": {},
   "outputs": [],
   "source": [
    "storeData[storeData[\"sales\"] >= 100]"
   ]
  },
  {
   "cell_type": "code",
   "execution_count": null,
   "id": "f0b1befd",
   "metadata": {},
   "outputs": [],
   "source": [
    "storeData[[\"branch\",\"sales\",\"area\"]].query('sales >= 100 and area < 80')"
   ]
  },
  {
   "cell_type": "code",
   "execution_count": null,
   "id": "6284922a",
   "metadata": {},
   "outputs": [],
   "source": [
    "print(storeData[\"numwork\"].sum())"
   ]
  },
  {
   "cell_type": "code",
   "execution_count": null,
   "id": "92175ea6",
   "metadata": {},
   "outputs": [],
   "source": [
    "print(storeData.describe())"
   ]
  },
  {
   "cell_type": "code",
   "execution_count": null,
   "id": "bf53ea3a",
   "metadata": {},
   "outputs": [],
   "source": [
    "storeData.set_index(\"branch\",inplace = True)\n",
    "storeData.head()"
   ]
  },
  {
   "cell_type": "code",
   "execution_count": null,
   "id": "da066b49",
   "metadata": {},
   "outputs": [],
   "source": [
    "branchNames = {\n",
    "    \"三条\": \"Sanjo\",\n",
    "    \"京都南\": \"Kyoto-Minami\",\n",
    "    \"長岡京\": \"Nagaokakyo\",\n",
    "    \"生駒\": \"Ikoma\",\n",
    "    \"高槻\": \"Takatsuki\",\n",
    "    \"枚方\": \"Hirakata\",\n",
    "    \"池田\": \"Ikeda\",\n",
    "    \"東大阪\": \"Higashi-Osaka\",\n",
    "    \"堺\": \"Sakai\",\n",
    "    \"八尾\": \"Yao\",\n",
    "    \"和歌山\": \"Wakayama\",\n",
    "    \"宝塚\": \"Takaraduka\",\n",
    "    \"西宮\": \"Nishinomiya\",\n",
    "    \"西神\": \"Seishin\",\n",
    "    \"加古川\": \"Kakogawa\"\n",
    "}\n",
    "\n",
    "storeData.rename(index=branchNames, inplace=True)\n",
    "storeData"
   ]
  },
  {
   "cell_type": "code",
   "execution_count": null,
   "id": "47a1fc2a",
   "metadata": {},
   "outputs": [],
   "source": [
    "%matplotlib inline\n",
    "plt.style.use(\"ggplot\")"
   ]
  },
  {
   "cell_type": "code",
   "execution_count": null,
   "id": "33c1477a",
   "metadata": {},
   "outputs": [],
   "source": [
    "storeData_changed = storeData.sort_values(by = \"sales\")\n",
    "storeData_changed[\"sales\"].plot(kind = \"bar\",figsize=(10,10)).legend()"
   ]
  },
  {
   "cell_type": "code",
   "execution_count": null,
   "id": "0c47f57c",
   "metadata": {},
   "outputs": [],
   "source": [
    "bocchanData = pd.read_csv('bocchan.csv', sep=',')\n",
    "bocchanData.head()"
   ]
  },
  {
   "cell_type": "code",
   "execution_count": null,
   "id": "65e7fc71",
   "metadata": {},
   "outputs": [],
   "source": [
    "print(bocchanData.shape)"
   ]
  },
  {
   "cell_type": "code",
   "execution_count": null,
   "id": "691056ac",
   "metadata": {},
   "outputs": [],
   "source": [
    "bocchanData[15:17]"
   ]
  },
  {
   "cell_type": "code",
   "execution_count": null,
   "id": "1027fc3d",
   "metadata": {},
   "outputs": [],
   "source": [
    "bocchanData.isnull().sum()"
   ]
  },
  {
   "cell_type": "code",
   "execution_count": null,
   "id": "cd870715",
   "metadata": {},
   "outputs": [],
   "source": [
    "bocchanData.drop(['活用1', '活用2', '発音'], axis=1, inplace=True)"
   ]
  },
  {
   "cell_type": "code",
   "execution_count": null,
   "id": "80f3cc98",
   "metadata": {},
   "outputs": [],
   "source": [
    "bocchanData.dropna(subset=['単語'], axis=0, inplace=True)"
   ]
  },
  {
   "cell_type": "code",
   "execution_count": null,
   "id": "6689d2cc",
   "metadata": {},
   "outputs": [],
   "source": [
    "bocchanData['細分類1'] = bocchanData['細分類1'].replace(np.nan, 'その他').astype(object)"
   ]
  },
  {
   "cell_type": "code",
   "execution_count": null,
   "id": "f7548092",
   "metadata": {},
   "outputs": [],
   "source": [
    "print(bocchanData.shape)"
   ]
  },
  {
   "cell_type": "code",
   "execution_count": null,
   "id": "a146222e",
   "metadata": {},
   "outputs": [],
   "source": [
    "bocchanData_dummy = pd.get_dummies(bocchanData, columns=['品詞'])\n",
    "bocchanData_dummy.sum()"
   ]
  },
  {
   "cell_type": "code",
   "execution_count": null,
   "id": "932e55a4",
   "metadata": {},
   "outputs": [],
   "source": [
    "labelNames = [\"age\",\"workclass\",\"fnlwgt\",\"education\",\"education-num\",\"material-status\",\"occupation\",\"relationship\",\"race\",\"sex\",\"capital-gain\",\"capital-loss\",\"hours-per-week\",\"native-country\",\"annual_income\"]\n",
    "adultData = pd.read_csv('adult.csv', names = labelNames, sep=',',skipinitialspace = True)\n",
    "adultData"
   ]
  },
  {
   "cell_type": "code",
   "execution_count": null,
   "id": "510bc5ad",
   "metadata": {},
   "outputs": [],
   "source": [
    "adultData.drop([\"fnlwgt\"],axis = 1,inplace = True)\n",
    "adultData.head()"
   ]
  },
  {
   "cell_type": "code",
   "execution_count": null,
   "id": "79846f20",
   "metadata": {},
   "outputs": [],
   "source": [
    "shape_bf = adultData.shape"
   ]
  },
  {
   "cell_type": "code",
   "execution_count": null,
   "id": "1ddedd77",
   "metadata": {},
   "outputs": [],
   "source": [
    "adultData.replace(\"?\",np.nan,inplace = True,regex = False)\n",
    "adultData.dropna(axis = 0,inplace = True)"
   ]
  },
  {
   "cell_type": "code",
   "execution_count": null,
   "id": "3052bb8c",
   "metadata": {},
   "outputs": [],
   "source": [
    "shape_af = adultData.shape\n",
    "print(shape_bf)\n",
    "print(shape_af)"
   ]
  },
  {
   "cell_type": "code",
   "execution_count": null,
   "id": "e48f12df",
   "metadata": {
    "scrolled": true
   },
   "outputs": [],
   "source": [
    "adultData.groupby([\"annual_income\"])[\"age\",\"education-num\",\"hours-per-week\"].mean()"
   ]
  },
  {
   "cell_type": "code",
   "execution_count": null,
   "id": "e45e6644",
   "metadata": {},
   "outputs": [],
   "source": [
    "adultData2 = pd.get_dummies(adultData,columns = [\"annual_income\"])\n",
    "adultData_under50 = adultData2[adultData2[\"annual_income_<=50K\"] > 0]\n",
    "adultData_upper50 = adultData2[adultData2[\"annual_income_>50K\"] > 0]"
   ]
  },
  {
   "cell_type": "code",
   "execution_count": null,
   "id": "d0f6d5fc",
   "metadata": {},
   "outputs": [],
   "source": [
    "%matplotlib inline\n",
    "plt.style.use(\"ggplot\")"
   ]
  },
  {
   "cell_type": "code",
   "execution_count": null,
   "id": "13b731f2",
   "metadata": {},
   "outputs": [],
   "source": [
    "adultData3 = pd.DataFrame({\"age\":adultData_under50[\"age\"],\"hours-per-week\":adultData_under50[\"hours-per-week\"]})\n",
    "adultData4 = pd.DataFrame({\"age\":adultData_upper50[\"age\"],\"hours-per-week\":adultData_upper50[\"hours-per-week\"]})\n",
    "adultData_Under = adultData3.groupby([\"age\"])[\"hours-per-week\"].mean()\n",
    "adultData_Upper= adultData4.groupby([\"age\"])[\"hours-per-week\"].mean()\n",
    "\n",
    "adultData_Under = adultData_Under.reindex(range(100), fill_value=0)\n",
    "adultData_Upper = adultData_Upper.reindex(range(100), fill_value=0)\n",
    "\n",
    "# adultData_Under.plot(kind = \"bar\",subplots = True,figsize = (15,10))\n",
    "# adultData_Upper.plot(kind = \"bar\",figsize = (15,10),color = \"blue\")\n",
    "# plt.figure(figsize = (15,10))\n",
    "# plt.subplot(1,2,1)\n",
    "# plt.plot(adultData_Under)\n",
    "# plt.subplot(1,2,2)\n",
    "# plt.plot(adultData_Upper)"
   ]
  },
  {
   "cell_type": "code",
   "execution_count": null,
   "id": "7d5de1cf",
   "metadata": {},
   "outputs": [],
   "source": [
    "fig = plt.figure(figsize=(15,10))\n",
    "ax1 = fig.add_subplot(121)\n",
    "ax2 = fig.add_subplot(122, sharey=ax1)\n",
    "# フォントを大きくする設定\n",
    "plt.rcParams[\"font.size\"] = 18\n",
    "plt.tight_layout()\n",
    "adultData_Under.plot(ax=ax1, kind='barh', color='blue', label='<=50K')\n",
    "adultData_Upper.plot(ax=ax2, kind='barh', color='red', label='>50K')\n",
    "\n",
    "ax1.set_yticks(np.array(range(0,100,5)))\n",
    "ax1.set_yticklabels(np.array(range(0,100,5)))\n",
    "ax1.set_xlim([65,0])\n",
    "ax1.set_ylim([0,95])\n",
    "ax1.set_ylabel(\"Age\")\n",
    "ax1.set_xlabel(\"hours-per-week\")\n",
    "\n",
    "ax2.set_xlim([0,65])\n",
    "ax2.set_xlabel(\"hours-per-week\")\n",
    "ax1.legend()\n",
    "ax2.legend()"
   ]
  },
  {
   "cell_type": "code",
   "execution_count": null,
   "id": "49f82d3b",
   "metadata": {},
   "outputs": [],
   "source": []
  }
 ],
 "metadata": {
  "kernelspec": {
   "display_name": "Python 3 (ipykernel)",
   "language": "python",
   "name": "python3"
  },
  "language_info": {
   "codemirror_mode": {
    "name": "ipython",
    "version": 3
   },
   "file_extension": ".py",
   "mimetype": "text/x-python",
   "name": "python",
   "nbconvert_exporter": "python",
   "pygments_lexer": "ipython3",
   "version": "3.10.0"
  }
 },
 "nbformat": 4,
 "nbformat_minor": 5
}
