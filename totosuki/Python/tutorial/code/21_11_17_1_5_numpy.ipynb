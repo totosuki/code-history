{
 "cells": [
  {
   "cell_type": "code",
   "execution_count": null,
   "id": "24f89a6d",
   "metadata": {},
   "outputs": [],
   "source": [
    "#numpyの練習ファイル"
   ]
  },
  {
   "cell_type": "code",
   "execution_count": null,
   "id": "ee7fe191",
   "metadata": {},
   "outputs": [],
   "source": [
    "import numpy\n",
    "a = numpy.array([0,1,2,3])\n",
    "print(a)"
   ]
  },
  {
   "cell_type": "code",
   "execution_count": null,
   "id": "5d109e20",
   "metadata": {},
   "outputs": [],
   "source": [
    "b = numpy.array([[0, 1, 2], [3, 4, 5]])\n",
    "print(b)\n",
    "print(numpy.ones((3, 2)))\n",
    "print(a.dtype)"
   ]
  },
  {
   "cell_type": "code",
   "execution_count": null,
   "id": "70dffa96",
   "metadata": {
    "scrolled": true
   },
   "outputs": [],
   "source": [
    "ao = numpy.array([[1], [2, 3]])\n",
    "print(ao)\n",
    "print(ao.dtype)"
   ]
  },
  {
   "cell_type": "code",
   "execution_count": null,
   "id": "e2ea5b62",
   "metadata": {},
   "outputs": [],
   "source": [
    "a = numpy.array([1,2,3,4])\n",
    "b = numpy.array([1,2,2,1])\n",
    "\n",
    "b = numpy.arange(9).reshape(3,3)\n",
    "\n",
    "print(b[0:,1])\n",
    "print(b[:,1].reshape(3,1))"
   ]
  },
  {
   "cell_type": "code",
   "execution_count": null,
   "id": "9f64628b",
   "metadata": {},
   "outputs": [],
   "source": [
    "a = numpy.array([1,3,5,7])\n",
    "a[2:] = numpy.array([10,14])"
   ]
  },
  {
   "cell_type": "code",
   "execution_count": null,
   "id": "5c0465e1",
   "metadata": {
    "scrolled": true
   },
   "outputs": [],
   "source": [
    "l = [1,2,3]\n",
    "l2 = l[:]\n",
    "l2[0] = 3\n",
    "print(l,l2)"
   ]
  },
  {
   "cell_type": "code",
   "execution_count": null,
   "id": "1d4ea791",
   "metadata": {},
   "outputs": [],
   "source": [
    "a = numpy.arange(15)\n",
    "mask = (a % 3 == 0)\n",
    "print(a[mask])\n",
    "print(a[numpy.arange(0, 15, 2)])"
   ]
  },
  {
   "cell_type": "code",
   "execution_count": null,
   "id": "2ee92885",
   "metadata": {},
   "outputs": [],
   "source": [
    "a = numpy.arange(1,5)\n",
    "print(a.sum())"
   ]
  },
  {
   "cell_type": "code",
   "execution_count": null,
   "id": "4206d7c5",
   "metadata": {},
   "outputs": [],
   "source": [
    "b = numpy.arange(6).reshape(2,3)\n",
    "print(b.sum(axis = 0))\n",
    "print(b.sum())"
   ]
  },
  {
   "cell_type": "code",
   "execution_count": null,
   "id": "5bac408c",
   "metadata": {},
   "outputs": [],
   "source": [
    "b0 = b.sum(axis=0, keepdims=True)\n",
    "print(\"axis=0\", b0)\n",
    "print(\"axis=0 shape\", b0.shape)\n",
    "b1 = b.sum(axis=1, keepdims=True)\n",
    "print(\"axis=1\", b1)\n",
    "print(\"axis=1 shape\", b1.shape)"
   ]
  },
  {
   "cell_type": "code",
   "execution_count": null,
   "id": "e9053700",
   "metadata": {},
   "outputs": [],
   "source": [
    "a = numpy.array([4, 3, 1, 4, 2])\n",
    "mask = numpy.argsort(a)\n",
    "print(a)\n",
    "print(numpy.argsort(a))\n",
    "print(a[mask])"
   ]
  },
  {
   "cell_type": "code",
   "execution_count": null,
   "id": "cc3651ae",
   "metadata": {},
   "outputs": [],
   "source": [
    "a = numpy.arange(1, 20)\n",
    "print(a)\n",
    "a = numpy.append(a,20)\n",
    "print(a)"
   ]
  },
  {
   "cell_type": "code",
   "execution_count": null,
   "id": "edd5010f",
   "metadata": {},
   "outputs": [],
   "source": [
    "print(numpy.round(4.3))"
   ]
  },
  {
   "cell_type": "code",
   "execution_count": null,
   "id": "e6196549",
   "metadata": {},
   "outputs": [],
   "source": [
    "a = numpy.ones((10,10),dtype = int)\n",
    "a[1:9,1:9] = 0\n",
    "print(a)"
   ]
  },
  {
   "cell_type": "code",
   "execution_count": null,
   "id": "4961d354",
   "metadata": {},
   "outputs": [],
   "source": [
    "b = numpy.ones((10,10),dtype=int)\n",
    "a[::2,::2] = 0\n",
    "a[1::2,1::2] = 0\n",
    "print(a)"
   ]
  },
  {
   "cell_type": "code",
   "execution_count": null,
   "id": "60e23e34",
   "metadata": {},
   "outputs": [],
   "source": [
    "c = numpy.arange(10)\n",
    "c[3:8] *= -1\n",
    "print(c)"
   ]
  },
  {
   "cell_type": "code",
   "execution_count": null,
   "id": "9e66cdf4",
   "metadata": {},
   "outputs": [],
   "source": [
    "d = numpy.array([1,2,3,4,5])\n",
    "d2 = numpy.zeros(17,dtype=int)\n",
    "d2[::4] = d\n",
    "print(d2)"
   ]
  },
  {
   "cell_type": "code",
   "execution_count": null,
   "id": "ca8f160a",
   "metadata": {},
   "outputs": [],
   "source": [
    "import math\n",
    "x = numpy.array([0, 30, 45, 60, 90, 120, 135, 150, 180])\n",
    "x_sin = numpy.round((numpy.sin((x / 180) * math.pi)),2)\n",
    "x_cos = numpy.round((numpy.cos((x / 180) * math.pi)),2)\n",
    "\n",
    "for i in range(9):\n",
    "    if(x_sin[i] == x_cos[i]):\n",
    "        print(x[i])"
   ]
  },
  {
   "cell_type": "code",
   "execution_count": null,
   "id": "4615b0c4",
   "metadata": {},
   "outputs": [],
   "source": [
    "notMagicCircle = False\n",
    "test1 = numpy.array([[8,1,6],[3,5,7],[4,9,2]])\n",
    "test1_x = test1.sum(axis = 1)\n",
    "test1_y = test1.sum(axis = 0)\n",
    "test1_diagonal1 = numpy.empty((0),dtype=int)\n",
    "test1_diagonal2 = numpy.empty((0),dtype=int)\n",
    "\n",
    "for i in range(3):\n",
    "    test1_diagonal1 = numpy.append(test1_diagonal1,test1[i,i])\n",
    "for i in range(1,4):\n",
    "    test1_diagonal2 = numpy.append(test1_diagonal2,test1[-i,i-1])\n",
    "\n",
    "test1_diagonal = numpy.array([sum(test1_diagonal1),sum(test1_diagonal2)])\n",
    "\n",
    "test2 = numpy.array([[1,6,3],[5,2,4],[9,8,7]])\n",
    "test2_x = test1.sum(axis = 1)\n",
    "test2_y = test1.sum(axis = 0)\n",
    "test2_diagonal1 = numpy.empty((0),dtype=int)\n",
    "test2_diagonal2 = numpy.empty((0),dtype=int)\n",
    "\n",
    "for i in range(3):\n",
    "    test2_diagonal1 = numpy.append(test2_diagonal1,test2[i,i])\n",
    "for i in range(1,4):\n",
    "    test2_diagonal2 = numpy.append(test2_diagonal2,test2[-i,i-1])\n",
    "\n",
    "test2_diagonal = numpy.array([sum(test2_diagonal1),sum(test2_diagonal2)])\n",
    "\n",
    "for x in test1_x:\n",
    "    for y in test1_y:\n",
    "        for diagonal in test1_diagonal:\n",
    "            if(x == y and y == diagonal):\n",
    "                notMagicCircle = True\n",
    "                \n",
    "\n",
    "if(notMagicCircle):\n",
    "    print(\"Test1は魔法陣です\")\n",
    "    notMagicCircle = False\n",
    "else:\n",
    "    notMagicCircle = False\n",
    "    \n",
    "for x in test2_x:\n",
    "    for y in test2_y:\n",
    "        for diagonal in test2_diagonal:\n",
    "            if(x == y and y == diagonal):\n",
    "                notMagicCircle = True\n",
    "                \n",
    "if(notMagicCircle):\n",
    "    print(\"Test2は魔法陣です\")\n",
    "    notMagicCircle = False\n",
    "else:\n",
    "    notMagicCircle = False\n",
    "    \n",
    "# if(numpy.array_equal(test1_x,test1_y) and numpy.array_equal(test1_y,(test1_diagonal * 2 + test1_diagonal2))):\n",
    "#     print(\"Test1は魔法陣です\")"
   ]
  },
  {
   "cell_type": "code",
   "execution_count": null,
   "id": "9ba07d45",
   "metadata": {},
   "outputs": [],
   "source": [
    "testArray = numpy.array([100,82,74,93,61])\n",
    "tekitouSum = sum(testArray)\n",
    "tekitouAverage = tekitouSum / 5\n",
    "\n",
    "tekitouDeviation = numpy.empty((0),dtype = int)\n",
    "for i in testArray:\n",
    "    tekitouDeviation = numpy.append(tekitouDeviation,i - tekitouAverage)\n",
    "\n",
    "tekitouDistributed = sum(tekitouDeviation ** 2) / 5\n",
    "print(\"分散\",tekitouDistributed)\n",
    "\n",
    "standardDeviation = numpy.sqrt(tekitouDistributed)\n",
    "print(\"標準分散\",standardDeviation)"
   ]
  },
  {
   "cell_type": "code",
   "execution_count": null,
   "id": "e6437ad2",
   "metadata": {},
   "outputs": [],
   "source": [
    "randomData = numpy.random.randint(0,100,(5,5),int)\n",
    "print(\"Normal:\",randomData)\n",
    "changeData = randomData[[1,0,2,4,3],:]\n",
    "print(\"Changed:\",changeData)"
   ]
  },
  {
   "cell_type": "code",
   "execution_count": null,
   "id": "28d4c2b8",
   "metadata": {},
   "outputs": [],
   "source": [
    "floatData = numpy.random.uniform(10,20,(5))\n",
    "changeData1 = numpy.round(floatData)\n",
    "changeData2 = numpy.fix(floatData)\n",
    "changeData3 = numpy.floor(floatData)\n",
    "changeData4 = numpy.ceil(floatData)\n",
    "\n",
    "print(\"Normal:\",floatData)\n",
    "print(\"Change1:\",changeData1)\n",
    "print(\"Change2:\",changeData2)\n",
    "print(\"Change3:\",changeData3)\n",
    "print(\"Change4:\",changeData4)"
   ]
  },
  {
   "cell_type": "code",
   "execution_count": null,
   "id": "fbdc83aa",
   "metadata": {},
   "outputs": [],
   "source": [
    "hinzuuData = numpy.zeros((3,3),int)\n",
    "axis0 = 2\n",
    "axis1 = 1\n",
    "\n",
    "hinzuuData[2,1] = 1\n",
    "axis0 += 1\n",
    "axis1 += 1\n",
    "for i in range(2,10):\n",
    "    if axis0 == 3:\n",
    "        axis0 = 0\n",
    "    if axis1 == 3:\n",
    "        axis1 = 0\n",
    "    if hinzuuData[axis0,axis1] != 0:\n",
    "        axis0 -= 2\n",
    "        axis1 -= 1\n",
    "        if axis0 == -1:\n",
    "            axis0 = 2\n",
    "        if axis1 == -1:\n",
    "            axis1 = 2\n",
    "    hinzuuData[axis0,axis1] = i\n",
    "    axis0 += 1\n",
    "    axis1 += 1\n",
    "print(hinzuuData)"
   ]
  }
 ],
 "metadata": {
  "kernelspec": {
   "display_name": "Python 3 (ipykernel)",
   "language": "python",
   "name": "python3"
  },
  "language_info": {
   "codemirror_mode": {
    "name": "ipython",
    "version": 3
   },
   "file_extension": ".py",
   "mimetype": "text/x-python",
   "name": "python",
   "nbconvert_exporter": "python",
   "pygments_lexer": "ipython3",
   "version": "3.10.0"
  }
 },
 "nbformat": 4,
 "nbformat_minor": 5
}
