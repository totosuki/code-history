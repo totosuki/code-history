{
 "cells": [
  {
   "cell_type": "code",
   "execution_count": null,
   "metadata": {},
   "outputs": [],
   "source": [
    "# エラトステネスの篩の高速化検証\n",
    "# 上のセルに書かれている改善点は全て含まれる\n",
    "# 処理速度計測は N = 10**8 で計算したもの"
   ]
  },
  {
   "cell_type": "code",
   "execution_count": null,
   "metadata": {},
   "outputs": [],
   "source": [
    "from math import isqrt"
   ]
  },
  {
   "cell_type": "code",
   "execution_count": null,
   "metadata": {},
   "outputs": [],
   "source": [
    "# 「愚直」 130.66 sec\n",
    "def eratosthenes_0(N: int):\n",
    "  is_prime = [1] * (N+1)\n",
    "  for p in range(2, N+1):\n",
    "    if not is_prime: continue\n",
    "    for q in range(p*2, N+1, p):\n",
    "      is_prime[q] = 0\n",
    "  return is_prime"
   ]
  },
  {
   "cell_type": "code",
   "execution_count": null,
   "metadata": {},
   "outputs": [],
   "source": [
    "# 「pを平方根まで & qをp^2から」 41.19 sec\n",
    "def eratosthenes_1(N):\n",
    "  is_prime = [1] * (N+1)\n",
    "  for p in range(2, isqrt(N)+1):\n",
    "    if not is_prime: continue\n",
    "    for q in range(p*p, N+1, p):\n",
    "      is_prime[q] = 0\n",
    "  return is_prime"
   ]
  },
  {
   "cell_type": "code",
   "execution_count": null,
   "metadata": {},
   "outputs": [],
   "source": [
    "# 「偶数の省略」 10.13 sec\n",
    "def eratosthenes_2(N):\n",
    "  is_prime = [1] * (N//2)\n",
    "  is_prime[0] = False\n",
    "  sqrt_p = (isqrt(N) + 1) // 2\n",
    "  for i in range(1, sqrt_p):\n",
    "    if not is_prime: continue\n",
    "    p = 2 * i + 1\n",
    "    for q in range(p*p//2, len(is_prime), p):\n",
    "      is_prime[q] = 0\n",
    "  return is_prime"
   ]
  },
  {
   "cell_type": "code",
   "execution_count": null,
   "metadata": {},
   "outputs": [],
   "source": [
    "# 「NumPyによる高速化」 0.29 sec\n",
    "import numpy as np\n",
    "\n",
    "def eratosthenes_3(N):\n",
    "  is_prime = np.ones(N//2, dtype = bool)\n",
    "  is_prime[0] = 0\n",
    "  sqrt_p = (int(N**0.5) + 1) // 2\n",
    "  for i in range(1, sqrt_p):\n",
    "    if not is_prime[i]: continue\n",
    "    p = 2 * i + 1\n",
    "    is_prime[p*p//2::p] = 0\n",
    "  return is_prime"
   ]
  }
 ],
 "metadata": {
  "kernelspec": {
   "display_name": "atcoder",
   "language": "python",
   "name": "python3"
  },
  "language_info": {
   "codemirror_mode": {
    "name": "ipython",
    "version": 3
   },
   "file_extension": ".py",
   "mimetype": "text/x-python",
   "name": "python",
   "nbconvert_exporter": "python",
   "pygments_lexer": "ipython3",
   "version": "3.11.4"
  },
  "orig_nbformat": 4
 },
 "nbformat": 4,
 "nbformat_minor": 2
}
