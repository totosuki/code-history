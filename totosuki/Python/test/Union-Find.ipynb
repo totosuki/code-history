{
 "cells": [
  {
   "cell_type": "code",
   "execution_count": null,
   "metadata": {},
   "outputs": [],
   "source": [
    "# Union-Find 素集合データ構造"
   ]
  },
  {
   "cell_type": "code",
   "execution_count": null,
   "metadata": {},
   "outputs": [],
   "source": [
    "#素朴な実装"
   ]
  },
  {
   "cell_type": "code",
   "execution_count": null,
   "metadata": {},
   "outputs": [],
   "source": [
    "class UnionFindBasic():\n",
    "  def __init__(self, n):\n",
    "    self.parents = list(range(n))\n",
    "\n",
    "  def find(self, x):\n",
    "    if self.parents[x] == x:\n",
    "      return x\n",
    "    else:\n",
    "      return self.find(self.parents[x])\n",
    "\n",
    "  def union(self, x, y):\n",
    "    x = self.find(x)\n",
    "    y = self.find(y)\n",
    "\n",
    "    if x == y:\n",
    "      return\n",
    "\n",
    "    self.parents[y] = x"
   ]
  },
  {
   "cell_type": "code",
   "execution_count": null,
   "metadata": {},
   "outputs": [],
   "source": [
    "ufb = UnionFindBasic(5)\n",
    "print(ufb.parents)"
   ]
  },
  {
   "cell_type": "code",
   "execution_count": null,
   "metadata": {},
   "outputs": [],
   "source": [
    "ufb.union(3, 4)\n",
    "print(ufb.parents)\n",
    "ufb.union(2, 3)\n",
    "print(ufb.parents)\n",
    "ufb.union(1, 2)\n",
    "print(ufb.parents)\n",
    "ufb.union(0, 4)\n",
    "print(ufb.parents)"
   ]
  },
  {
   "cell_type": "code",
   "execution_count": null,
   "metadata": {},
   "outputs": [],
   "source": [
    "# 経路圧縮"
   ]
  },
  {
   "cell_type": "code",
   "execution_count": null,
   "metadata": {},
   "outputs": [],
   "source": [
    "class UnionFindPathCompression():\n",
    "  def __init__(self, n):\n",
    "    self.parents = list(range(n))\n",
    "  \n",
    "  def find(self, x):\n",
    "    if self.parents[x] == x:\n",
    "      return x\n",
    "    else:\n",
    "      self.parents[x] = self.find(self.parents[x])\n",
    "      return self.parents[x]\n",
    "  \n",
    "  def union(self, x, y):\n",
    "    x = self.find(x)\n",
    "    y = self.find(y)\n",
    "\n",
    "    if x == y:\n",
    "      return\n",
    "\n",
    "    self.parents[y] = x"
   ]
  },
  {
   "cell_type": "code",
   "execution_count": null,
   "metadata": {},
   "outputs": [],
   "source": [
    "ufpc = UnionFindPathCompression(5)\n",
    "print(ufpc.parents)\n",
    "\n",
    "ufpc.union(3, 4)\n",
    "print(ufpc.parents)\n",
    "ufpc.union(2, 3)\n",
    "print(ufpc.parents)\n",
    "ufpc.union(1, 2)\n",
    "print(ufpc.parents)\n",
    "ufpc.union(0, 4)\n",
    "print(ufpc.parents)\n",
    "\n",
    "print([ufpc.find(i) for i in range(5)])"
   ]
  },
  {
   "cell_type": "code",
   "execution_count": null,
   "metadata": {},
   "outputs": [],
   "source": [
    "# Union by Rank"
   ]
  },
  {
   "cell_type": "code",
   "execution_count": null,
   "metadata": {},
   "outputs": [],
   "source": [
    "class UnionFindByRank():\n",
    "  def __init__(self, n):\n",
    "    self.parents = list(range(n))\n",
    "    self.rank = [0] * n\n",
    "  \n",
    "  def find(self, x):\n",
    "    if self.parents[x] == x:\n",
    "      return x\n",
    "    else:\n",
    "      self.parents[x] = self.find(self.parents[x])\n",
    "      return self.parents[x]\n",
    "  \n",
    "  def union(self, x, y):\n",
    "    x = self.find(x)\n",
    "    y = self.find(y)\n",
    "\n",
    "    print(f\"x:{x}, y:{y}, rankx:{self.rank[x]}, ranky: {self.rank[y]}\")\n",
    "\n",
    "    if x == y:\n",
    "      return\n",
    "    \n",
    "    if self.rank[x] < self.rank[y]:\n",
    "      self.parents[x] = y\n",
    "    else:\n",
    "      self.parents[y] = x\n",
    "      if self.rank[x] == self.rank[y]:\n",
    "        self.rank[x] += 1"
   ]
  },
  {
   "cell_type": "code",
   "execution_count": null,
   "metadata": {},
   "outputs": [],
   "source": [
    "ufbr = UnionFindByRank(5)\n",
    "print(ufbr.parents)\n",
    "\n",
    "ufbr.union(3, 4)\n",
    "print(ufbr.parents)\n",
    "ufbr.union(2, 3)\n",
    "print(ufbr.parents)\n",
    "ufbr.union(1, 2)\n",
    "print(ufbr.parents)\n",
    "ufbr.union(0, 4)\n",
    "print(ufbr.parents)"
   ]
  },
  {
   "cell_type": "code",
   "execution_count": null,
   "metadata": {},
   "outputs": [],
   "source": []
  }
 ],
 "metadata": {
  "kernelspec": {
   "display_name": "atcoder",
   "language": "python",
   "name": "python3"
  },
  "language_info": {
   "codemirror_mode": {
    "name": "ipython",
    "version": 3
   },
   "file_extension": ".py",
   "mimetype": "text/x-python",
   "name": "python",
   "nbconvert_exporter": "python",
   "pygments_lexer": "ipython3",
   "version": "3.8.17"
  },
  "orig_nbformat": 4
 },
 "nbformat": 4,
 "nbformat_minor": 2
}
