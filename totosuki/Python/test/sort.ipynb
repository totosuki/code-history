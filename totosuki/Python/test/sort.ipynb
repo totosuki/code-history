{
 "cells": [
  {
   "attachments": {},
   "cell_type": "markdown",
   "metadata": {},
   "source": []
  },
  {
   "cell_type": "code",
   "execution_count": 6,
   "metadata": {},
   "outputs": [
    {
     "name": "stdout",
     "output_type": "stream",
     "text": [
      "[3, 9, 27]\n",
      "[4, 6, 24]\n",
      "[4, 8, 32]\n",
      "\n",
      "[3, 9, 27]\n",
      "[4, 8, 32]\n",
      "[4, 6, 24]\n"
     ]
    }
   ],
   "source": [
    "L = [[4, 8, 32], [3, 9, 27], [4, 6, 24]]\n",
    "L.sort()\n",
    "print(*L, sep = \"\\n\", end = \"\\n\\n\")\n",
    "L.sort(key = lambda x: (x[0], -x[1]))\n",
    "print(*L, sep = \"\\n\")"
   ]
  },
  {
   "cell_type": "code",
   "execution_count": null,
   "metadata": {},
   "outputs": [],
   "source": []
  }
 ],
 "metadata": {
  "kernelspec": {
   "display_name": "atcoder",
   "language": "python",
   "name": "python3"
  },
  "language_info": {
   "codemirror_mode": {
    "name": "ipython",
    "version": 3
   },
   "file_extension": ".py",
   "mimetype": "text/x-python",
   "name": "python",
   "nbconvert_exporter": "python",
   "pygments_lexer": "ipython3",
   "version": "3.8.16"
  },
  "orig_nbformat": 4
 },
 "nbformat": 4,
 "nbformat_minor": 2
}
