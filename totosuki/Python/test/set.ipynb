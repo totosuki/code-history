{
 "cells": [
  {
   "cell_type": "code",
   "execution_count": null,
   "metadata": {},
   "outputs": [],
   "source": [
    "# in演算子が早い: 1"
   ]
  },
  {
   "cell_type": "code",
   "execution_count": null,
   "metadata": {},
   "outputs": [],
   "source": [
    "import time\n",
    "st = time.perf_counter()\n",
    "\n",
    "N = 10**5\n",
    "se = {n for n in range(N) if n % 2 == 0}\n",
    "cnt = 0\n",
    "\n",
    "for n in range(N):\n",
    "  if n in se:\n",
    "    cnt += 1\n",
    "\n",
    "et = time.perf_counter()\n",
    "print(et - st)"
   ]
  },
  {
   "cell_type": "code",
   "execution_count": null,
   "metadata": {},
   "outputs": [],
   "source": [
    "import time\n",
    "st = time.perf_counter()\n",
    "\n",
    "N = 10**4\n",
    "li = [n for n in range(N) if n % 2 == 0]\n",
    "cnt = 0\n",
    "\n",
    "for n in range(N):\n",
    "  if n in li:\n",
    "    cnt += 1\n",
    "\n",
    "et = time.perf_counter()\n",
    "print(et - st)"
   ]
  },
  {
   "cell_type": "code",
   "execution_count": null,
   "metadata": {},
   "outputs": [],
   "source": [
    "# 集合演算が出来る: 2"
   ]
  },
  {
   "cell_type": "code",
   "execution_count": null,
   "metadata": {},
   "outputs": [],
   "source": [
    "se1 = {1, 2, 3, 4}\n",
    "se2 = {3, 4, 5, 6}\n",
    "se3 = se1 | se2\n",
    "print(se3)"
   ]
  },
  {
   "cell_type": "code",
   "execution_count": null,
   "metadata": {},
   "outputs": [],
   "source": []
  }
 ],
 "metadata": {
  "kernelspec": {
   "display_name": "atcoder",
   "language": "python",
   "name": "python3"
  },
  "language_info": {
   "codemirror_mode": {
    "name": "ipython",
    "version": 3
   },
   "file_extension": ".py",
   "mimetype": "text/x-python",
   "name": "python",
   "nbconvert_exporter": "python",
   "pygments_lexer": "ipython3",
   "version": "3.8.17"
  },
  "orig_nbformat": 4
 },
 "nbformat": 4,
 "nbformat_minor": 2
}
