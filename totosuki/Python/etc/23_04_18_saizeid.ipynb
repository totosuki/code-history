{
 "cells": [
  {
   "cell_type": "code",
   "execution_count": null,
   "metadata": {},
   "outputs": [],
   "source": [
    "#サイゼリヤの商品番号jupyterバージョン"
   ]
  },
  {
   "cell_type": "code",
   "execution_count": null,
   "metadata": {},
   "outputs": [],
   "source": [
    "import requests\n",
    "from bs4 import BeautifulSoup\n",
    "from lxml import html\n",
    "import numpy as np\n",
    "import pandas as pd"
   ]
  },
  {
   "cell_type": "code",
   "execution_count": null,
   "metadata": {},
   "outputs": [],
   "source": [
    "data = pd.read_csv(\"../data/group1_test.csv\", sep = \",\")\n",
    "data.head()"
   ]
  },
  {
   "cell_type": "code",
   "execution_count": null,
   "metadata": {},
   "outputs": [],
   "source": [
    "URL = \"https://cafe-tatsujin.com/saizeriya-menu.html\"\n",
    "res = requests.get(URL)\n",
    "soup = BeautifulSoup(res.text, \"html.parser\")\n",
    "lxml_data = html.fromstring(str(soup))"
   ]
  },
  {
   "cell_type": "code",
   "execution_count": null,
   "metadata": {},
   "outputs": [],
   "source": [
    "id_list = lxml_data.xpath('//figure[@class=\"wp-block-table\"]/div/')\n",
    "//*[@id=\"post-6162\"]/div/div/figure[4]/div/table/tbody/tr[1]/td[1]\n",
    "//*[@id=\"post-6162\"]/div/div/figure[4]/div/table/tbody/tr[1]/td[2]\n",
    "\n",
    "//*[@id=\"post-6162\"]/div/div/figure[6]/div/table/tbody/tr[1]/td[1]\n",
    "\n",
    "//*[@id=\"post-6162\"]/div/div/figure[26]/div/table/tbody/tr[1]/td[1]\n",
    "\n",
    "//*[@id=\"post-6162\"]/div/div/figure[31]/div/table/tbody/tr[1]/td[1]"
   ]
  },
  {
   "cell_type": "code",
   "execution_count": null,
   "metadata": {},
   "outputs": [],
   "source": [
    "result = np.empty(0, dtype = object).reshape(0,2)\n",
    "for figure_num in range(4,32):\n",
    "  for tr_num in range(1, 100):\n",
    "    elem = lxml_data.xpath(f'//*[@id=\"post-6162\"]/div/div/figure[{figure_num}]/div/table/tbody/tr[{tr_num}]')\n",
    "    if len(elem) == 0:\n",
    "      print(\"elem is empty\")\n",
    "      break\n",
    "    id = lxml_data.xpath(f'//*[@id=\"post-6162\"]/div/div/figure[{figure_num}]/div/table/tbody/tr[{tr_num}]/td[1]/text()')\n",
    "    name = lxml_data.xpath(f'//*[@id=\"post-6162\"]/div/div/figure[{figure_num}]/div/table/tbody/tr[{tr_num}]/td[2]/text()')\n",
    "    result = np.append(result, [[np.squeeze(id), np.squeeze(name)]], axis = 0)\n",
    "print(result)"
   ]
  },
  {
   "cell_type": "code",
   "execution_count": null,
   "metadata": {},
   "outputs": [],
   "source": []
  }
 ],
 "metadata": {
  "kernelspec": {
   "display_name": "python39",
   "language": "python",
   "name": "python3"
  },
  "language_info": {
   "codemirror_mode": {
    "name": "ipython",
    "version": 3
   },
   "file_extension": ".py",
   "mimetype": "text/x-python",
   "name": "python",
   "nbconvert_exporter": "python",
   "pygments_lexer": "ipython3",
   "version": "3.9.13"
  },
  "orig_nbformat": 4
 },
 "nbformat": 4,
 "nbformat_minor": 2
}
