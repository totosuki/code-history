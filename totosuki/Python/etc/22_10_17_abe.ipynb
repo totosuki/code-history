{
 "cells": [
  {
   "cell_type": "code",
   "execution_count": null,
   "metadata": {},
   "outputs": [],
   "source": [
    "#阿部寛のホームページから画像を拾って開くRTA"
   ]
  },
  {
   "cell_type": "code",
   "execution_count": null,
   "metadata": {},
   "outputs": [],
   "source": [
    "import time\n",
    "import requests\n",
    "import numpy as np\n",
    "import cv2\n",
    "\n",
    "url = \"https://img.cpcdn.com/recipes/7374519/894x1461s/244fe98c45d3135764131f97eb54d166?u=52895377&p=1669178153\""
   ]
  },
  {
   "cell_type": "code",
   "execution_count": null,
   "metadata": {},
   "outputs": [],
   "source": [
    "start = time.perf_counter()\n",
    "res = requests.get(url)\n",
    "arr = np.frombuffer(res.content, dtype = np.uint8)\n",
    "img = cv2.imdecode(arr, flags = cv2.IMREAD_COLOR)\n",
    "cv2.imshow(\"abe\", img)\n",
    "end = time.perf_counter()\n",
    "key = cv2.waitKey(0)\n",
    "cv2.destroyAllWindows()\n",
    "print(end - start)"
   ]
  },
  {
   "cell_type": "code",
   "execution_count": null,
   "metadata": {},
   "outputs": [],
   "source": []
  }
 ],
 "metadata": {
  "kernelspec": {
   "display_name": "Python 3.9.13 ('ABE')",
   "language": "python",
   "name": "python3"
  },
  "language_info": {
   "codemirror_mode": {
    "name": "ipython",
    "version": 3
   },
   "file_extension": ".py",
   "mimetype": "text/x-python",
   "name": "python",
   "nbconvert_exporter": "python",
   "pygments_lexer": "ipython3",
   "version": "3.9.13"
  },
  "orig_nbformat": 4,
  "vscode": {
   "interpreter": {
    "hash": "df613bd3e105a2e107d318006919cff96075c53647931d0903bce84cbdb8570b"
   }
  }
 },
 "nbformat": 4,
 "nbformat_minor": 2
}
